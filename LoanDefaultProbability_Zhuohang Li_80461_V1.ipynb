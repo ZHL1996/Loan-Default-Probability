{
 "cells": [
  {
   "cell_type": "markdown",
   "metadata": {
    "_cell_guid": "83708667-4fdc-1563-7b3a-06b6575d2865"
   },
   "source": [
   ]
  },
  {
   "cell_type": "markdown",
   "metadata": {},
   "source": [
    "is a guide for you but is not strict - you can use more cells or less. If you want to try other things then you can but it is not gauranteed to raise your score. What I want you to do is to do the things I ask for well and to explain them clearly. "
   ]
  },
  {
   "cell_type": "code",
   "execution_count": 2,
   "metadata": {},
   "outputs": [],
   "source": [
    "# Disable the warnings\n",
    "import warnings\n",
    "warnings.filterwarnings('ignore')"
   ]
  },
  {
   "cell_type": "markdown",
   "metadata": {},
   "source": [
    "## Overview"
   ]
  },
  {
   "cell_type": "markdown",
   "metadata": {},
   "source": [
    "* [1. Problem Definition](#0)\n",
    "* [2. Getting Started - Load Libraries and Dataset](#1)\n",
    "    * [2.1. Load Libraries](#1.1)    \n",
    "    * [2.2. Load Dataset](#1.2)\n",
    "* [3. Data Preparation and Feature Selection](#2)\n",
    "    * [3.1. Preparing the predicted variable](#2.1)    \n",
    "    * [3.2. Feature Selection-Limit the Feature Space](#2.2)\n",
    "        * [3.2.1.  Features elimination by significant missing values ](#2.2.1)\n",
    "        * [3.2.2.  Features elimination based on the intutiveness](#2.2.2)\n",
    "        * [3.2.3.  Features elimination based on the correlation](#2.2.3)   \n",
    "* [4. Feature Engineering and Exploratory Analysis](#3)\n",
    "    * [4.1 Feature Analysis and Exploration](#3.1)\n",
    "        * [4.1.1. Analysing the categorical features](#3.1.1)\n",
    "        * [4.1.2  Analysing the continuous features ](#3.1.2) \n",
    "    * [4.2.Encoding Categorical Data](#3.2)\n",
    "    * [4.3.Sampling Data](#3.3)    \n",
    "* [5.Evaluate Algorithms and Models](#4)        \n",
    "    * [5.1. Train/Test Split](#4.1)\n",
    "    * [5.2. Test Options and Evaluation Metrics](#4.2)\n",
    "    * [5.3. Compare Models and Algorithms](#4.3)\n",
    "* [6. Model Tuning and Grid Search](#5)  \n",
    "* [7. Finalize the Model](#6)  \n",
    "    * [7.1. Results on test dataset](#6.1)\n",
    "    * [7.1. Variable Intuition/Feature Selection](#6.2) \n",
    "    * [7.3. Save model for later use](#6.3)\n"
   ]
  },
  {
   "cell_type": "markdown",
   "metadata": {},
   "source": [
    "<a id='0'></a>\n",
    "# 1. Problem Definition"
   ]
  },
  {
   "cell_type": "markdown",
   "metadata": {},
   "source": [
    "This case study aims to analyze data for loans through 2007-2017Q3 from Lending Club available on Kaggle. Dataset contains over 887 thousand observations and 150 variables among which one is describing the loan status. The predicted variable is “Charge-Off ”. A charge-off is a debt that a creditor has given up trying to collect on after you’ve missed payments for several months. You want a model that can predict charge-off."
   ]
  },
  {
   "cell_type": "markdown",
   "metadata": {},
   "source": [
    "<a id='1'></a>\n",
    "# 2. Getting Started- Loading the data and python packages"
   ]
  },
  {
   "cell_type": "markdown",
   "metadata": {},
   "source": [
    "## 2.1. Load all the python packages you need here"
   ]
  },
  {
   "cell_type": "code",
   "execution_count": 3,
   "metadata": {
    "_cell_guid": "5d8fee34-f454-2642-8b06-ed719f0317e1"
   },
   "outputs": [],
   "source": [
    "import pandas as pd\n",
    "import numpy as np\n",
    "import matplotlib.pyplot as plt\n",
    "from sklearn import preprocessing\n",
    "from sklearn.model_selection import train_test_split\n",
    "from sklearn.linear_model import LogisticRegression\n",
    "from sklearn.neighbors import KNeighborsClassifier\n",
    "from sklearn.tree import DecisionTreeClassifier\n",
    "from sklearn.naive_bayes import GaussianNB\n",
    "from sklearn.neural_network import MLPClassifier\n",
    "from sklearn.ensemble import AdaBoostClassifier\n",
    "from sklearn.ensemble import RandomForestClassifier"
   ]
  },
  {
   "cell_type": "markdown",
   "metadata": {},
   "source": [
    "<a id='1.2'></a>\n",
    "## 2.2. Loading the Data"
   ]
  },
  {
   "cell_type": "markdown",
   "metadata": {},
   "source": [
    "### Load the data in this step. This is in the form of a zipped csv file LoansData_sample.csv.gz - see how you load a zipped csv file in the pandas documentation. Use a utf-8 encoding. Call the dataframe \"dataset\""
   ]
  },
  {
   "cell_type": "code",
   "execution_count": 4,
   "metadata": {},
   "outputs": [],
   "source": [
    "dataset = pd.read_csv(\"LoansData_sample.csv.gz\",encoding = \"utf-8\",index_col = 0,header = 0)"
   ]
  },
  {
   "cell_type": "markdown",
   "metadata": {},
   "source": [
    "### Examine the properties of the data frame"
   ]
  },
  {
   "cell_type": "code",
   "execution_count": 5,
   "metadata": {},
   "outputs": [
    {
     "data": {
      "text/html": [
       "<div>\n",
       "<style scoped>\n",
       "    .dataframe tbody tr th:only-of-type {\n",
       "        vertical-align: middle;\n",
       "    }\n",
       "\n",
       "    .dataframe tbody tr th {\n",
       "        vertical-align: top;\n",
       "    }\n",
       "\n",
       "    .dataframe thead th {\n",
       "        text-align: right;\n",
       "    }\n",
       "</style>\n",
       "<table border=\"1\" class=\"dataframe\">\n",
       "  <thead>\n",
       "    <tr style=\"text-align: right;\">\n",
       "      <th></th>\n",
       "      <th>id</th>\n",
       "      <th>member_id</th>\n",
       "      <th>loan_amnt</th>\n",
       "      <th>funded_amnt</th>\n",
       "      <th>funded_amnt_inv</th>\n",
       "      <th>term</th>\n",
       "      <th>int_rate</th>\n",
       "      <th>installment</th>\n",
       "      <th>grade</th>\n",
       "      <th>sub_grade</th>\n",
       "      <th>...</th>\n",
       "      <th>hardship_payoff_balance_amount</th>\n",
       "      <th>hardship_last_payment_amount</th>\n",
       "      <th>disbursement_method</th>\n",
       "      <th>debt_settlement_flag</th>\n",
       "      <th>debt_settlement_flag_date</th>\n",
       "      <th>settlement_status</th>\n",
       "      <th>settlement_date</th>\n",
       "      <th>settlement_amount</th>\n",
       "      <th>settlement_percentage</th>\n",
       "      <th>settlement_term</th>\n",
       "    </tr>\n",
       "  </thead>\n",
       "  <tbody>\n",
       "    <tr>\n",
       "      <th>0</th>\n",
       "      <td>38098114</td>\n",
       "      <td>NaN</td>\n",
       "      <td>15000.0</td>\n",
       "      <td>15000.0</td>\n",
       "      <td>15000.0</td>\n",
       "      <td>60 months</td>\n",
       "      <td>12.39</td>\n",
       "      <td>336.64</td>\n",
       "      <td>C</td>\n",
       "      <td>C1</td>\n",
       "      <td>...</td>\n",
       "      <td>NaN</td>\n",
       "      <td>NaN</td>\n",
       "      <td>Cash</td>\n",
       "      <td>N</td>\n",
       "      <td>NaN</td>\n",
       "      <td>NaN</td>\n",
       "      <td>NaN</td>\n",
       "      <td>NaN</td>\n",
       "      <td>NaN</td>\n",
       "      <td>NaN</td>\n",
       "    </tr>\n",
       "    <tr>\n",
       "      <th>1</th>\n",
       "      <td>36805548</td>\n",
       "      <td>NaN</td>\n",
       "      <td>10400.0</td>\n",
       "      <td>10400.0</td>\n",
       "      <td>10400.0</td>\n",
       "      <td>36 months</td>\n",
       "      <td>6.99</td>\n",
       "      <td>321.08</td>\n",
       "      <td>A</td>\n",
       "      <td>A3</td>\n",
       "      <td>...</td>\n",
       "      <td>NaN</td>\n",
       "      <td>NaN</td>\n",
       "      <td>Cash</td>\n",
       "      <td>N</td>\n",
       "      <td>NaN</td>\n",
       "      <td>NaN</td>\n",
       "      <td>NaN</td>\n",
       "      <td>NaN</td>\n",
       "      <td>NaN</td>\n",
       "      <td>NaN</td>\n",
       "    </tr>\n",
       "    <tr>\n",
       "      <th>2</th>\n",
       "      <td>37842129</td>\n",
       "      <td>NaN</td>\n",
       "      <td>21425.0</td>\n",
       "      <td>21425.0</td>\n",
       "      <td>21425.0</td>\n",
       "      <td>60 months</td>\n",
       "      <td>15.59</td>\n",
       "      <td>516.36</td>\n",
       "      <td>D</td>\n",
       "      <td>D1</td>\n",
       "      <td>...</td>\n",
       "      <td>NaN</td>\n",
       "      <td>NaN</td>\n",
       "      <td>Cash</td>\n",
       "      <td>N</td>\n",
       "      <td>NaN</td>\n",
       "      <td>NaN</td>\n",
       "      <td>NaN</td>\n",
       "      <td>NaN</td>\n",
       "      <td>NaN</td>\n",
       "      <td>NaN</td>\n",
       "    </tr>\n",
       "    <tr>\n",
       "      <th>3</th>\n",
       "      <td>37612354</td>\n",
       "      <td>NaN</td>\n",
       "      <td>12800.0</td>\n",
       "      <td>12800.0</td>\n",
       "      <td>12800.0</td>\n",
       "      <td>60 months</td>\n",
       "      <td>17.14</td>\n",
       "      <td>319.08</td>\n",
       "      <td>D</td>\n",
       "      <td>D4</td>\n",
       "      <td>...</td>\n",
       "      <td>NaN</td>\n",
       "      <td>NaN</td>\n",
       "      <td>Cash</td>\n",
       "      <td>N</td>\n",
       "      <td>NaN</td>\n",
       "      <td>NaN</td>\n",
       "      <td>NaN</td>\n",
       "      <td>NaN</td>\n",
       "      <td>NaN</td>\n",
       "      <td>NaN</td>\n",
       "    </tr>\n",
       "    <tr>\n",
       "      <th>4</th>\n",
       "      <td>37662224</td>\n",
       "      <td>NaN</td>\n",
       "      <td>7650.0</td>\n",
       "      <td>7650.0</td>\n",
       "      <td>7650.0</td>\n",
       "      <td>36 months</td>\n",
       "      <td>13.66</td>\n",
       "      <td>260.20</td>\n",
       "      <td>C</td>\n",
       "      <td>C3</td>\n",
       "      <td>...</td>\n",
       "      <td>NaN</td>\n",
       "      <td>NaN</td>\n",
       "      <td>Cash</td>\n",
       "      <td>N</td>\n",
       "      <td>NaN</td>\n",
       "      <td>NaN</td>\n",
       "      <td>NaN</td>\n",
       "      <td>NaN</td>\n",
       "      <td>NaN</td>\n",
       "      <td>NaN</td>\n",
       "    </tr>\n",
       "  </tbody>\n",
       "</table>\n",
       "<p>5 rows × 150 columns</p>\n",
       "</div>"
      ],
      "text/plain": [
       "         id  member_id  loan_amnt  funded_amnt  funded_amnt_inv        term  \\\n",
       "0  38098114        NaN    15000.0      15000.0          15000.0   60 months   \n",
       "1  36805548        NaN    10400.0      10400.0          10400.0   36 months   \n",
       "2  37842129        NaN    21425.0      21425.0          21425.0   60 months   \n",
       "3  37612354        NaN    12800.0      12800.0          12800.0   60 months   \n",
       "4  37662224        NaN     7650.0       7650.0           7650.0   36 months   \n",
       "\n",
       "   int_rate  installment grade sub_grade  ... hardship_payoff_balance_amount  \\\n",
       "0     12.39       336.64     C        C1  ...                            NaN   \n",
       "1      6.99       321.08     A        A3  ...                            NaN   \n",
       "2     15.59       516.36     D        D1  ...                            NaN   \n",
       "3     17.14       319.08     D        D4  ...                            NaN   \n",
       "4     13.66       260.20     C        C3  ...                            NaN   \n",
       "\n",
       "  hardship_last_payment_amount disbursement_method  debt_settlement_flag  \\\n",
       "0                          NaN                Cash                     N   \n",
       "1                          NaN                Cash                     N   \n",
       "2                          NaN                Cash                     N   \n",
       "3                          NaN                Cash                     N   \n",
       "4                          NaN                Cash                     N   \n",
       "\n",
       "  debt_settlement_flag_date settlement_status settlement_date  \\\n",
       "0                       NaN               NaN             NaN   \n",
       "1                       NaN               NaN             NaN   \n",
       "2                       NaN               NaN             NaN   \n",
       "3                       NaN               NaN             NaN   \n",
       "4                       NaN               NaN             NaN   \n",
       "\n",
       "  settlement_amount settlement_percentage settlement_term  \n",
       "0               NaN                   NaN             NaN  \n",
       "1               NaN                   NaN             NaN  \n",
       "2               NaN                   NaN             NaN  \n",
       "3               NaN                   NaN             NaN  \n",
       "4               NaN                   NaN             NaN  \n",
       "\n",
       "[5 rows x 150 columns]"
      ]
     },
     "execution_count": 5,
     "metadata": {},
     "output_type": "execute_result"
    }
   ],
   "source": [
    "dataset.head()"
   ]
  },
  {
   "cell_type": "code",
   "execution_count": 6,
   "metadata": {},
   "outputs": [
    {
     "data": {
      "text/plain": [
       "(100000, 150)"
      ]
     },
     "execution_count": 6,
     "metadata": {},
     "output_type": "execute_result"
    }
   ],
   "source": [
    "dataset.shape"
   ]
  },
  {
   "cell_type": "markdown",
   "metadata": {},
   "source": [
    "<a id='2'></a>\n",
    "## 3. Data Preparation and Feature Selection"
   ]
  },
  {
   "cell_type": "markdown",
   "metadata": {},
   "source": [
    "<a id='2.1'></a>\n",
    "## 3.1. Preparing the predicted variable\n"
   ]
  },
  {
   "cell_type": "markdown",
   "metadata": {},
   "source": [
    "### The column to predict is loan_status. Look at the values it takes and their counts."
   ]
  },
  {
   "cell_type": "code",
   "execution_count": 7,
   "metadata": {
    "scrolled": true
   },
   "outputs": [
    {
     "data": {
      "text/plain": [
       "Fully Paid            69982\n",
       "Charged Off           16156\n",
       "Current               12726\n",
       "Late (31-120 days)      730\n",
       "In Grace Period         264\n",
       "Late (16-30 days)       139\n",
       "Default                   3\n",
       "Name: loan_status, dtype: int64"
      ]
     },
     "execution_count": 7,
     "metadata": {},
     "output_type": "execute_result"
    }
   ],
   "source": [
    "predictor = dataset[\"loan_status\"]\n",
    "predictor.value_counts() # show the number of each status"
   ]
  },
  {
   "cell_type": "markdown",
   "metadata": {},
   "source": [
    "### You need to try to learn differences in the features between completed loans that have been fully paid or charged off. Don't consider loans that are current, don't meet the credit policy, defaulted, or have a missing status. So only keep the loans with status \"Fully Paid\" or \"Charged Off.\" Count the number of each."
   ]
  },
  {
   "cell_type": "code",
   "execution_count": 8,
   "metadata": {},
   "outputs": [
    {
     "name": "stdout",
     "output_type": "stream",
     "text": [
      "Charged Off    16156\n",
      "Name: loan_status, dtype: int64\n",
      "Fully Paid    69982\n",
      "Name: loan_status, dtype: int64\n"
     ]
    }
   ],
   "source": [
    "p1 = predictor[predictor == 'Charged Off']\n",
    "p2 = predictor[predictor == 'Fully Paid']\n",
    "print(p1.value_counts())\n",
    "print(p2.value_counts())"
   ]
  },
  {
   "cell_type": "code",
   "execution_count": 9,
   "metadata": {},
   "outputs": [
    {
     "data": {
      "text/html": [
       "<div>\n",
       "<style scoped>\n",
       "    .dataframe tbody tr th:only-of-type {\n",
       "        vertical-align: middle;\n",
       "    }\n",
       "\n",
       "    .dataframe tbody tr th {\n",
       "        vertical-align: top;\n",
       "    }\n",
       "\n",
       "    .dataframe thead th {\n",
       "        text-align: right;\n",
       "    }\n",
       "</style>\n",
       "<table border=\"1\" class=\"dataframe\">\n",
       "  <thead>\n",
       "    <tr style=\"text-align: right;\">\n",
       "      <th></th>\n",
       "      <th>id</th>\n",
       "      <th>member_id</th>\n",
       "      <th>loan_amnt</th>\n",
       "      <th>funded_amnt</th>\n",
       "      <th>funded_amnt_inv</th>\n",
       "      <th>term</th>\n",
       "      <th>int_rate</th>\n",
       "      <th>installment</th>\n",
       "      <th>grade</th>\n",
       "      <th>sub_grade</th>\n",
       "      <th>...</th>\n",
       "      <th>hardship_payoff_balance_amount</th>\n",
       "      <th>hardship_last_payment_amount</th>\n",
       "      <th>disbursement_method</th>\n",
       "      <th>debt_settlement_flag</th>\n",
       "      <th>debt_settlement_flag_date</th>\n",
       "      <th>settlement_status</th>\n",
       "      <th>settlement_date</th>\n",
       "      <th>settlement_amount</th>\n",
       "      <th>settlement_percentage</th>\n",
       "      <th>settlement_term</th>\n",
       "    </tr>\n",
       "  </thead>\n",
       "  <tbody>\n",
       "    <tr>\n",
       "      <th>1</th>\n",
       "      <td>36805548</td>\n",
       "      <td>NaN</td>\n",
       "      <td>10400.0</td>\n",
       "      <td>10400.0</td>\n",
       "      <td>10400.0</td>\n",
       "      <td>36 months</td>\n",
       "      <td>6.99</td>\n",
       "      <td>321.08</td>\n",
       "      <td>A</td>\n",
       "      <td>A3</td>\n",
       "      <td>...</td>\n",
       "      <td>NaN</td>\n",
       "      <td>NaN</td>\n",
       "      <td>Cash</td>\n",
       "      <td>N</td>\n",
       "      <td>NaN</td>\n",
       "      <td>NaN</td>\n",
       "      <td>NaN</td>\n",
       "      <td>NaN</td>\n",
       "      <td>NaN</td>\n",
       "      <td>NaN</td>\n",
       "    </tr>\n",
       "    <tr>\n",
       "      <th>4</th>\n",
       "      <td>37662224</td>\n",
       "      <td>NaN</td>\n",
       "      <td>7650.0</td>\n",
       "      <td>7650.0</td>\n",
       "      <td>7650.0</td>\n",
       "      <td>36 months</td>\n",
       "      <td>13.66</td>\n",
       "      <td>260.20</td>\n",
       "      <td>C</td>\n",
       "      <td>C3</td>\n",
       "      <td>...</td>\n",
       "      <td>NaN</td>\n",
       "      <td>NaN</td>\n",
       "      <td>Cash</td>\n",
       "      <td>N</td>\n",
       "      <td>NaN</td>\n",
       "      <td>NaN</td>\n",
       "      <td>NaN</td>\n",
       "      <td>NaN</td>\n",
       "      <td>NaN</td>\n",
       "      <td>NaN</td>\n",
       "    </tr>\n",
       "    <tr>\n",
       "      <th>8</th>\n",
       "      <td>36804663</td>\n",
       "      <td>NaN</td>\n",
       "      <td>23325.0</td>\n",
       "      <td>23325.0</td>\n",
       "      <td>23325.0</td>\n",
       "      <td>36 months</td>\n",
       "      <td>14.31</td>\n",
       "      <td>800.71</td>\n",
       "      <td>C</td>\n",
       "      <td>C4</td>\n",
       "      <td>...</td>\n",
       "      <td>NaN</td>\n",
       "      <td>NaN</td>\n",
       "      <td>Cash</td>\n",
       "      <td>N</td>\n",
       "      <td>NaN</td>\n",
       "      <td>NaN</td>\n",
       "      <td>NaN</td>\n",
       "      <td>NaN</td>\n",
       "      <td>NaN</td>\n",
       "      <td>NaN</td>\n",
       "    </tr>\n",
       "    <tr>\n",
       "      <th>10</th>\n",
       "      <td>37701596</td>\n",
       "      <td>NaN</td>\n",
       "      <td>10000.0</td>\n",
       "      <td>10000.0</td>\n",
       "      <td>10000.0</td>\n",
       "      <td>36 months</td>\n",
       "      <td>11.99</td>\n",
       "      <td>332.10</td>\n",
       "      <td>B</td>\n",
       "      <td>B5</td>\n",
       "      <td>...</td>\n",
       "      <td>NaN</td>\n",
       "      <td>NaN</td>\n",
       "      <td>Cash</td>\n",
       "      <td>N</td>\n",
       "      <td>NaN</td>\n",
       "      <td>NaN</td>\n",
       "      <td>NaN</td>\n",
       "      <td>NaN</td>\n",
       "      <td>NaN</td>\n",
       "      <td>NaN</td>\n",
       "    </tr>\n",
       "    <tr>\n",
       "      <th>11</th>\n",
       "      <td>37800722</td>\n",
       "      <td>NaN</td>\n",
       "      <td>12975.0</td>\n",
       "      <td>12975.0</td>\n",
       "      <td>12975.0</td>\n",
       "      <td>36 months</td>\n",
       "      <td>17.86</td>\n",
       "      <td>468.17</td>\n",
       "      <td>D</td>\n",
       "      <td>D5</td>\n",
       "      <td>...</td>\n",
       "      <td>NaN</td>\n",
       "      <td>NaN</td>\n",
       "      <td>Cash</td>\n",
       "      <td>N</td>\n",
       "      <td>NaN</td>\n",
       "      <td>NaN</td>\n",
       "      <td>NaN</td>\n",
       "      <td>NaN</td>\n",
       "      <td>NaN</td>\n",
       "      <td>NaN</td>\n",
       "    </tr>\n",
       "    <tr>\n",
       "      <th>...</th>\n",
       "      <td>...</td>\n",
       "      <td>...</td>\n",
       "      <td>...</td>\n",
       "      <td>...</td>\n",
       "      <td>...</td>\n",
       "      <td>...</td>\n",
       "      <td>...</td>\n",
       "      <td>...</td>\n",
       "      <td>...</td>\n",
       "      <td>...</td>\n",
       "      <td>...</td>\n",
       "      <td>...</td>\n",
       "      <td>...</td>\n",
       "      <td>...</td>\n",
       "      <td>...</td>\n",
       "      <td>...</td>\n",
       "      <td>...</td>\n",
       "      <td>...</td>\n",
       "      <td>...</td>\n",
       "      <td>...</td>\n",
       "      <td>...</td>\n",
       "    </tr>\n",
       "    <tr>\n",
       "      <th>99993</th>\n",
       "      <td>20798747</td>\n",
       "      <td>NaN</td>\n",
       "      <td>26000.0</td>\n",
       "      <td>26000.0</td>\n",
       "      <td>26000.0</td>\n",
       "      <td>60 months</td>\n",
       "      <td>15.61</td>\n",
       "      <td>626.90</td>\n",
       "      <td>D</td>\n",
       "      <td>D1</td>\n",
       "      <td>...</td>\n",
       "      <td>NaN</td>\n",
       "      <td>NaN</td>\n",
       "      <td>Cash</td>\n",
       "      <td>N</td>\n",
       "      <td>NaN</td>\n",
       "      <td>NaN</td>\n",
       "      <td>NaN</td>\n",
       "      <td>NaN</td>\n",
       "      <td>NaN</td>\n",
       "      <td>NaN</td>\n",
       "    </tr>\n",
       "    <tr>\n",
       "      <th>99994</th>\n",
       "      <td>21491171</td>\n",
       "      <td>NaN</td>\n",
       "      <td>15000.0</td>\n",
       "      <td>15000.0</td>\n",
       "      <td>14975.0</td>\n",
       "      <td>36 months</td>\n",
       "      <td>10.15</td>\n",
       "      <td>485.07</td>\n",
       "      <td>B</td>\n",
       "      <td>B2</td>\n",
       "      <td>...</td>\n",
       "      <td>NaN</td>\n",
       "      <td>NaN</td>\n",
       "      <td>Cash</td>\n",
       "      <td>N</td>\n",
       "      <td>NaN</td>\n",
       "      <td>NaN</td>\n",
       "      <td>NaN</td>\n",
       "      <td>NaN</td>\n",
       "      <td>NaN</td>\n",
       "      <td>NaN</td>\n",
       "    </tr>\n",
       "    <tr>\n",
       "      <th>99995</th>\n",
       "      <td>22454240</td>\n",
       "      <td>NaN</td>\n",
       "      <td>8400.0</td>\n",
       "      <td>8400.0</td>\n",
       "      <td>8400.0</td>\n",
       "      <td>36 months</td>\n",
       "      <td>9.17</td>\n",
       "      <td>267.79</td>\n",
       "      <td>B</td>\n",
       "      <td>B1</td>\n",
       "      <td>...</td>\n",
       "      <td>NaN</td>\n",
       "      <td>NaN</td>\n",
       "      <td>Cash</td>\n",
       "      <td>N</td>\n",
       "      <td>NaN</td>\n",
       "      <td>NaN</td>\n",
       "      <td>NaN</td>\n",
       "      <td>NaN</td>\n",
       "      <td>NaN</td>\n",
       "      <td>NaN</td>\n",
       "    </tr>\n",
       "    <tr>\n",
       "      <th>99996</th>\n",
       "      <td>11396920</td>\n",
       "      <td>NaN</td>\n",
       "      <td>10000.0</td>\n",
       "      <td>10000.0</td>\n",
       "      <td>10000.0</td>\n",
       "      <td>36 months</td>\n",
       "      <td>12.99</td>\n",
       "      <td>336.90</td>\n",
       "      <td>C</td>\n",
       "      <td>C1</td>\n",
       "      <td>...</td>\n",
       "      <td>NaN</td>\n",
       "      <td>NaN</td>\n",
       "      <td>Cash</td>\n",
       "      <td>N</td>\n",
       "      <td>NaN</td>\n",
       "      <td>NaN</td>\n",
       "      <td>NaN</td>\n",
       "      <td>NaN</td>\n",
       "      <td>NaN</td>\n",
       "      <td>NaN</td>\n",
       "    </tr>\n",
       "    <tr>\n",
       "      <th>99999</th>\n",
       "      <td>24023398</td>\n",
       "      <td>NaN</td>\n",
       "      <td>25000.0</td>\n",
       "      <td>25000.0</td>\n",
       "      <td>25000.0</td>\n",
       "      <td>36 months</td>\n",
       "      <td>10.15</td>\n",
       "      <td>808.45</td>\n",
       "      <td>B</td>\n",
       "      <td>B2</td>\n",
       "      <td>...</td>\n",
       "      <td>NaN</td>\n",
       "      <td>NaN</td>\n",
       "      <td>Cash</td>\n",
       "      <td>N</td>\n",
       "      <td>NaN</td>\n",
       "      <td>NaN</td>\n",
       "      <td>NaN</td>\n",
       "      <td>NaN</td>\n",
       "      <td>NaN</td>\n",
       "      <td>NaN</td>\n",
       "    </tr>\n",
       "  </tbody>\n",
       "</table>\n",
       "<p>86138 rows × 150 columns</p>\n",
       "</div>"
      ],
      "text/plain": [
       "             id  member_id  loan_amnt  funded_amnt  funded_amnt_inv  \\\n",
       "1      36805548        NaN    10400.0      10400.0          10400.0   \n",
       "4      37662224        NaN     7650.0       7650.0           7650.0   \n",
       "8      36804663        NaN    23325.0      23325.0          23325.0   \n",
       "10     37701596        NaN    10000.0      10000.0          10000.0   \n",
       "11     37800722        NaN    12975.0      12975.0          12975.0   \n",
       "...         ...        ...        ...          ...              ...   \n",
       "99993  20798747        NaN    26000.0      26000.0          26000.0   \n",
       "99994  21491171        NaN    15000.0      15000.0          14975.0   \n",
       "99995  22454240        NaN     8400.0       8400.0           8400.0   \n",
       "99996  11396920        NaN    10000.0      10000.0          10000.0   \n",
       "99999  24023398        NaN    25000.0      25000.0          25000.0   \n",
       "\n",
       "             term  int_rate  installment grade sub_grade  ...  \\\n",
       "1       36 months      6.99       321.08     A        A3  ...   \n",
       "4       36 months     13.66       260.20     C        C3  ...   \n",
       "8       36 months     14.31       800.71     C        C4  ...   \n",
       "10      36 months     11.99       332.10     B        B5  ...   \n",
       "11      36 months     17.86       468.17     D        D5  ...   \n",
       "...           ...       ...          ...   ...       ...  ...   \n",
       "99993   60 months     15.61       626.90     D        D1  ...   \n",
       "99994   36 months     10.15       485.07     B        B2  ...   \n",
       "99995   36 months      9.17       267.79     B        B1  ...   \n",
       "99996   36 months     12.99       336.90     C        C1  ...   \n",
       "99999   36 months     10.15       808.45     B        B2  ...   \n",
       "\n",
       "      hardship_payoff_balance_amount hardship_last_payment_amount  \\\n",
       "1                                NaN                          NaN   \n",
       "4                                NaN                          NaN   \n",
       "8                                NaN                          NaN   \n",
       "10                               NaN                          NaN   \n",
       "11                               NaN                          NaN   \n",
       "...                              ...                          ...   \n",
       "99993                            NaN                          NaN   \n",
       "99994                            NaN                          NaN   \n",
       "99995                            NaN                          NaN   \n",
       "99996                            NaN                          NaN   \n",
       "99999                            NaN                          NaN   \n",
       "\n",
       "      disbursement_method  debt_settlement_flag debt_settlement_flag_date  \\\n",
       "1                    Cash                     N                       NaN   \n",
       "4                    Cash                     N                       NaN   \n",
       "8                    Cash                     N                       NaN   \n",
       "10                   Cash                     N                       NaN   \n",
       "11                   Cash                     N                       NaN   \n",
       "...                   ...                   ...                       ...   \n",
       "99993                Cash                     N                       NaN   \n",
       "99994                Cash                     N                       NaN   \n",
       "99995                Cash                     N                       NaN   \n",
       "99996                Cash                     N                       NaN   \n",
       "99999                Cash                     N                       NaN   \n",
       "\n",
       "      settlement_status settlement_date settlement_amount  \\\n",
       "1                   NaN             NaN               NaN   \n",
       "4                   NaN             NaN               NaN   \n",
       "8                   NaN             NaN               NaN   \n",
       "10                  NaN             NaN               NaN   \n",
       "11                  NaN             NaN               NaN   \n",
       "...                 ...             ...               ...   \n",
       "99993               NaN             NaN               NaN   \n",
       "99994               NaN             NaN               NaN   \n",
       "99995               NaN             NaN               NaN   \n",
       "99996               NaN             NaN               NaN   \n",
       "99999               NaN             NaN               NaN   \n",
       "\n",
       "      settlement_percentage settlement_term  \n",
       "1                       NaN             NaN  \n",
       "4                       NaN             NaN  \n",
       "8                       NaN             NaN  \n",
       "10                      NaN             NaN  \n",
       "11                      NaN             NaN  \n",
       "...                     ...             ...  \n",
       "99993                   NaN             NaN  \n",
       "99994                   NaN             NaN  \n",
       "99995                   NaN             NaN  \n",
       "99996                   NaN             NaN  \n",
       "99999                   NaN             NaN  \n",
       "\n",
       "[86138 rows x 150 columns]"
      ]
     },
     "execution_count": 9,
     "metadata": {},
     "output_type": "execute_result"
    }
   ],
   "source": [
    "d1 = dataset.loc[p1.index]\n",
    "d2 = dataset.loc[p2.index]\n",
    "dataset = pd.concat([d1,d2],axis=0)\n",
    "dataset"
   ]
  },
  {
   "cell_type": "code",
   "execution_count": 10,
   "metadata": {},
   "outputs": [
    {
     "data": {
      "text/plain": [
       "1        Charged Off\n",
       "4        Charged Off\n",
       "8        Charged Off\n",
       "10       Charged Off\n",
       "11       Charged Off\n",
       "            ...     \n",
       "99993     Fully Paid\n",
       "99994     Fully Paid\n",
       "99995     Fully Paid\n",
       "99996     Fully Paid\n",
       "99999     Fully Paid\n",
       "Name: loan_status, Length: 86138, dtype: object"
      ]
     },
     "execution_count": 10,
     "metadata": {},
     "output_type": "execute_result"
    }
   ],
   "source": [
    "dataset.loan_status"
   ]
  },
  {
   "cell_type": "code",
   "execution_count": 11,
   "metadata": {},
   "outputs": [
    {
     "data": {
      "text/plain": [
       "(86138, 150)"
      ]
     },
     "execution_count": 11,
     "metadata": {},
     "output_type": "execute_result"
    }
   ],
   "source": [
    "dataset.shape"
   ]
  },
  {
   "cell_type": "markdown",
   "metadata": {},
   "source": [
    "### Is this an unbalanced dataset ?"
   ]
  },
  {
   "cell_type": "code",
   "execution_count": 12,
   "metadata": {},
   "outputs": [
    {
     "data": {
      "text/plain": [
       "Fully Paid     69982\n",
       "Charged Off    16156\n",
       "Name: loan_status, dtype: int64"
      ]
     },
     "execution_count": 12,
     "metadata": {},
     "output_type": "execute_result"
    }
   ],
   "source": [
    "dataset.loan_status.value_counts() \n",
    "# It's not a balanced dataset since these two labels have different numbers, we shall do some sampling work"
   ]
  },
  {
   "cell_type": "markdown",
   "metadata": {},
   "source": [
    "### Set the labels to be 1 for Charged off else 0"
   ]
  },
  {
   "cell_type": "code",
   "execution_count": 13,
   "metadata": {},
   "outputs": [],
   "source": [
    "t = {'Charged Off':1,\"Fully Paid\":0}\n",
    "dataset[\"charged_off\"] = dataset[\"loan_status\"].map(t)"
   ]
  },
  {
   "cell_type": "markdown",
   "metadata": {},
   "source": [
    "<a id='2.2'></a>\n",
    "## 3.2. Feature Selection-Limit the Feature Space "
   ]
  },
  {
   "cell_type": "markdown",
   "metadata": {},
   "source": [
    "The full dataset has 150 features for each\n",
    "loan. We’ll eliminate\n",
    "features in following steps using three different approaches:\n",
    "* Eliminate feature that have more than 30% missing values.\n",
    "* Eliminate features that are unintuitive based on subjective judgement - I will give you these.\n",
    "* Eliminate features with low correlation with the predicted variable"
   ]
  },
  {
   "cell_type": "markdown",
   "metadata": {},
   "source": [
    "<a id='2.2.1'></a>\n",
    "### 3.2.1.  Features elimination by significant missing values"
   ]
  },
  {
   "cell_type": "markdown",
   "metadata": {},
   "source": [
    "### Calculating the percentage of missing data for each feature using isnull().mean():"
   ]
  },
  {
   "cell_type": "code",
   "execution_count": 14,
   "metadata": {},
   "outputs": [
    {
     "data": {
      "text/plain": [
       "id                       0.000000\n",
       "member_id                1.000000\n",
       "loan_amnt                0.000000\n",
       "funded_amnt              0.000000\n",
       "funded_amnt_inv          0.000000\n",
       "                           ...   \n",
       "settlement_date          0.985407\n",
       "settlement_amount        0.985407\n",
       "settlement_percentage    0.985407\n",
       "settlement_term          0.985407\n",
       "charged_off              0.000000\n",
       "Length: 151, dtype: float64"
      ]
     },
     "execution_count": 14,
     "metadata": {},
     "output_type": "execute_result"
    }
   ],
   "source": [
    "pct_miss = dataset.isnull().mean()\n",
    "pct_miss"
   ]
  },
  {
   "cell_type": "markdown",
   "metadata": {},
   "source": [
    "### Drop the columns with more than 30% of missing data."
   ]
  },
  {
   "cell_type": "code",
   "execution_count": 15,
   "metadata": {},
   "outputs": [],
   "source": [
    "features = dataset.iloc[:,np.where(pct_miss>0.3)[0]].columns"
   ]
  },
  {
   "cell_type": "code",
   "execution_count": 16,
   "metadata": {},
   "outputs": [],
   "source": [
    "dataset = dataset.drop(features,axis=1)"
   ]
  },
  {
   "cell_type": "code",
   "execution_count": 17,
   "metadata": {},
   "outputs": [
    {
     "data": {
      "text/html": [
       "<div>\n",
       "<style scoped>\n",
       "    .dataframe tbody tr th:only-of-type {\n",
       "        vertical-align: middle;\n",
       "    }\n",
       "\n",
       "    .dataframe tbody tr th {\n",
       "        vertical-align: top;\n",
       "    }\n",
       "\n",
       "    .dataframe thead th {\n",
       "        text-align: right;\n",
       "    }\n",
       "</style>\n",
       "<table border=\"1\" class=\"dataframe\">\n",
       "  <thead>\n",
       "    <tr style=\"text-align: right;\">\n",
       "      <th></th>\n",
       "      <th>id</th>\n",
       "      <th>loan_amnt</th>\n",
       "      <th>funded_amnt</th>\n",
       "      <th>funded_amnt_inv</th>\n",
       "      <th>term</th>\n",
       "      <th>int_rate</th>\n",
       "      <th>installment</th>\n",
       "      <th>grade</th>\n",
       "      <th>sub_grade</th>\n",
       "      <th>emp_title</th>\n",
       "      <th>...</th>\n",
       "      <th>pub_rec_bankruptcies</th>\n",
       "      <th>tax_liens</th>\n",
       "      <th>tot_hi_cred_lim</th>\n",
       "      <th>total_bal_ex_mort</th>\n",
       "      <th>total_bc_limit</th>\n",
       "      <th>total_il_high_credit_limit</th>\n",
       "      <th>hardship_flag</th>\n",
       "      <th>disbursement_method</th>\n",
       "      <th>debt_settlement_flag</th>\n",
       "      <th>charged_off</th>\n",
       "    </tr>\n",
       "  </thead>\n",
       "  <tbody>\n",
       "    <tr>\n",
       "      <th>1</th>\n",
       "      <td>36805548</td>\n",
       "      <td>10400.0</td>\n",
       "      <td>10400.0</td>\n",
       "      <td>10400.0</td>\n",
       "      <td>36 months</td>\n",
       "      <td>6.99</td>\n",
       "      <td>321.08</td>\n",
       "      <td>A</td>\n",
       "      <td>A3</td>\n",
       "      <td>Truck Driver Delivery Personel</td>\n",
       "      <td>...</td>\n",
       "      <td>0.0</td>\n",
       "      <td>0.0</td>\n",
       "      <td>179407.0</td>\n",
       "      <td>15030.0</td>\n",
       "      <td>13000.0</td>\n",
       "      <td>11325.0</td>\n",
       "      <td>N</td>\n",
       "      <td>Cash</td>\n",
       "      <td>N</td>\n",
       "      <td>1</td>\n",
       "    </tr>\n",
       "    <tr>\n",
       "      <th>4</th>\n",
       "      <td>37662224</td>\n",
       "      <td>7650.0</td>\n",
       "      <td>7650.0</td>\n",
       "      <td>7650.0</td>\n",
       "      <td>36 months</td>\n",
       "      <td>13.66</td>\n",
       "      <td>260.20</td>\n",
       "      <td>C</td>\n",
       "      <td>C3</td>\n",
       "      <td>Technical Specialist</td>\n",
       "      <td>...</td>\n",
       "      <td>0.0</td>\n",
       "      <td>0.0</td>\n",
       "      <td>82331.0</td>\n",
       "      <td>64426.0</td>\n",
       "      <td>4900.0</td>\n",
       "      <td>64031.0</td>\n",
       "      <td>N</td>\n",
       "      <td>Cash</td>\n",
       "      <td>N</td>\n",
       "      <td>1</td>\n",
       "    </tr>\n",
       "    <tr>\n",
       "      <th>8</th>\n",
       "      <td>36804663</td>\n",
       "      <td>23325.0</td>\n",
       "      <td>23325.0</td>\n",
       "      <td>23325.0</td>\n",
       "      <td>36 months</td>\n",
       "      <td>14.31</td>\n",
       "      <td>800.71</td>\n",
       "      <td>C</td>\n",
       "      <td>C4</td>\n",
       "      <td>Teacher</td>\n",
       "      <td>...</td>\n",
       "      <td>0.0</td>\n",
       "      <td>0.0</td>\n",
       "      <td>443889.0</td>\n",
       "      <td>79490.0</td>\n",
       "      <td>36000.0</td>\n",
       "      <td>78126.0</td>\n",
       "      <td>N</td>\n",
       "      <td>Cash</td>\n",
       "      <td>N</td>\n",
       "      <td>1</td>\n",
       "    </tr>\n",
       "    <tr>\n",
       "      <th>10</th>\n",
       "      <td>37701596</td>\n",
       "      <td>10000.0</td>\n",
       "      <td>10000.0</td>\n",
       "      <td>10000.0</td>\n",
       "      <td>36 months</td>\n",
       "      <td>11.99</td>\n",
       "      <td>332.10</td>\n",
       "      <td>B</td>\n",
       "      <td>B5</td>\n",
       "      <td>Investment Consultant</td>\n",
       "      <td>...</td>\n",
       "      <td>0.0</td>\n",
       "      <td>0.0</td>\n",
       "      <td>24200.0</td>\n",
       "      <td>23723.0</td>\n",
       "      <td>21200.0</td>\n",
       "      <td>0.0</td>\n",
       "      <td>N</td>\n",
       "      <td>Cash</td>\n",
       "      <td>N</td>\n",
       "      <td>1</td>\n",
       "    </tr>\n",
       "    <tr>\n",
       "      <th>11</th>\n",
       "      <td>37800722</td>\n",
       "      <td>12975.0</td>\n",
       "      <td>12975.0</td>\n",
       "      <td>12975.0</td>\n",
       "      <td>36 months</td>\n",
       "      <td>17.86</td>\n",
       "      <td>468.17</td>\n",
       "      <td>D</td>\n",
       "      <td>D5</td>\n",
       "      <td>Sales</td>\n",
       "      <td>...</td>\n",
       "      <td>0.0</td>\n",
       "      <td>0.0</td>\n",
       "      <td>42943.0</td>\n",
       "      <td>17281.0</td>\n",
       "      <td>5500.0</td>\n",
       "      <td>27243.0</td>\n",
       "      <td>N</td>\n",
       "      <td>Cash</td>\n",
       "      <td>N</td>\n",
       "      <td>1</td>\n",
       "    </tr>\n",
       "  </tbody>\n",
       "</table>\n",
       "<p>5 rows × 93 columns</p>\n",
       "</div>"
      ],
      "text/plain": [
       "          id  loan_amnt  funded_amnt  funded_amnt_inv        term  int_rate  \\\n",
       "1   36805548    10400.0      10400.0          10400.0   36 months      6.99   \n",
       "4   37662224     7650.0       7650.0           7650.0   36 months     13.66   \n",
       "8   36804663    23325.0      23325.0          23325.0   36 months     14.31   \n",
       "10  37701596    10000.0      10000.0          10000.0   36 months     11.99   \n",
       "11  37800722    12975.0      12975.0          12975.0   36 months     17.86   \n",
       "\n",
       "    installment grade sub_grade                       emp_title  ...  \\\n",
       "1        321.08     A        A3  Truck Driver Delivery Personel  ...   \n",
       "4        260.20     C        C3            Technical Specialist  ...   \n",
       "8        800.71     C        C4                         Teacher  ...   \n",
       "10       332.10     B        B5           Investment Consultant  ...   \n",
       "11       468.17     D        D5                           Sales  ...   \n",
       "\n",
       "   pub_rec_bankruptcies tax_liens  tot_hi_cred_lim total_bal_ex_mort  \\\n",
       "1                   0.0       0.0         179407.0           15030.0   \n",
       "4                   0.0       0.0          82331.0           64426.0   \n",
       "8                   0.0       0.0         443889.0           79490.0   \n",
       "10                  0.0       0.0          24200.0           23723.0   \n",
       "11                  0.0       0.0          42943.0           17281.0   \n",
       "\n",
       "   total_bc_limit total_il_high_credit_limit hardship_flag  \\\n",
       "1         13000.0                    11325.0             N   \n",
       "4          4900.0                    64031.0             N   \n",
       "8         36000.0                    78126.0             N   \n",
       "10        21200.0                        0.0             N   \n",
       "11         5500.0                    27243.0             N   \n",
       "\n",
       "   disbursement_method debt_settlement_flag charged_off  \n",
       "1                 Cash                    N           1  \n",
       "4                 Cash                    N           1  \n",
       "8                 Cash                    N           1  \n",
       "10                Cash                    N           1  \n",
       "11                Cash                    N           1  \n",
       "\n",
       "[5 rows x 93 columns]"
      ]
     },
     "execution_count": 17,
     "metadata": {},
     "output_type": "execute_result"
    }
   ],
   "source": [
    "dataset.head()"
   ]
  },
  {
   "cell_type": "markdown",
   "metadata": {},
   "source": [
    "### How large is the remaining dataset ?"
   ]
  },
  {
   "cell_type": "code",
   "execution_count": 18,
   "metadata": {},
   "outputs": [
    {
     "data": {
      "text/plain": [
       "(86138, 93)"
      ]
     },
     "execution_count": 18,
     "metadata": {},
     "output_type": "execute_result"
    }
   ],
   "source": [
    "dataset.shape"
   ]
  },
  {
   "cell_type": "markdown",
   "metadata": {},
   "source": [
    "<a id='2.2.2'></a>\n",
    "### 3.2.2.  Features elimination based on the intutiveness"
   ]
  },
  {
   "cell_type": "markdown",
   "metadata": {},
   "source": [
    "### In order to filter the features further I checked the description in the data dictionary and keep the features that are intuitive on the basis of subjective judgement. To do so I examine the LendingClub website and Data Dictionary to determine which features would have been available to potential investors. Here's the list of features I have decided to keep. Can you do the same."
   ]
  },
  {
   "cell_type": "code",
   "execution_count": 19,
   "metadata": {},
   "outputs": [],
   "source": [
    "keep_list = ['charged_off','funded_amnt','addr_state', 'annual_inc', 'application_type', \n",
    "             'dti', 'earliest_cr_line', 'emp_length', 'emp_title', 'fico_range_high', \n",
    "             'fico_range_low', 'grade', 'home_ownership', 'id', 'initial_list_status', \n",
    "             'installment', 'int_rate', 'loan_amnt', 'loan_status', 'mort_acc', 'open_acc', \n",
    "             'pub_rec', 'pub_rec_bankruptcies', 'purpose', 'revol_bal', 'revol_util', \n",
    "             'sub_grade', 'term', 'title', 'total_acc', 'verification_status', 'zip_code',\n",
    "             'last_pymnt_amnt','num_actv_rev_tl', 'mo_sin_rcnt_rev_tl_op','mo_sin_old_rev_tl_op',\n",
    "             \"bc_util\",\"bc_open_to_buy\",\"avg_cur_bal\",\"acc_open_past_24mths\" ] # first column_name?"
   ]
  },
  {
   "cell_type": "markdown",
   "metadata": {},
   "source": [
    "### Drop all of the features except these ones from the dataset."
   ]
  },
  {
   "cell_type": "code",
   "execution_count": 20,
   "metadata": {},
   "outputs": [],
   "source": [
    "dataset = dataset[keep_list]"
   ]
  },
  {
   "cell_type": "code",
   "execution_count": 21,
   "metadata": {},
   "outputs": [
    {
     "data": {
      "text/plain": [
       "(86138, 40)"
      ]
     },
     "execution_count": 21,
     "metadata": {},
     "output_type": "execute_result"
    }
   ],
   "source": [
    "dataset.shape"
   ]
  },
  {
   "cell_type": "code",
   "execution_count": 22,
   "metadata": {},
   "outputs": [
    {
     "data": {
      "text/html": [
       "<div>\n",
       "<style scoped>\n",
       "    .dataframe tbody tr th:only-of-type {\n",
       "        vertical-align: middle;\n",
       "    }\n",
       "\n",
       "    .dataframe tbody tr th {\n",
       "        vertical-align: top;\n",
       "    }\n",
       "\n",
       "    .dataframe thead th {\n",
       "        text-align: right;\n",
       "    }\n",
       "</style>\n",
       "<table border=\"1\" class=\"dataframe\">\n",
       "  <thead>\n",
       "    <tr style=\"text-align: right;\">\n",
       "      <th></th>\n",
       "      <th>charged_off</th>\n",
       "      <th>funded_amnt</th>\n",
       "      <th>addr_state</th>\n",
       "      <th>annual_inc</th>\n",
       "      <th>application_type</th>\n",
       "      <th>dti</th>\n",
       "      <th>earliest_cr_line</th>\n",
       "      <th>emp_length</th>\n",
       "      <th>emp_title</th>\n",
       "      <th>fico_range_high</th>\n",
       "      <th>...</th>\n",
       "      <th>verification_status</th>\n",
       "      <th>zip_code</th>\n",
       "      <th>last_pymnt_amnt</th>\n",
       "      <th>num_actv_rev_tl</th>\n",
       "      <th>mo_sin_rcnt_rev_tl_op</th>\n",
       "      <th>mo_sin_old_rev_tl_op</th>\n",
       "      <th>bc_util</th>\n",
       "      <th>bc_open_to_buy</th>\n",
       "      <th>avg_cur_bal</th>\n",
       "      <th>acc_open_past_24mths</th>\n",
       "    </tr>\n",
       "  </thead>\n",
       "  <tbody>\n",
       "    <tr>\n",
       "      <th>1</th>\n",
       "      <td>1</td>\n",
       "      <td>10400.0</td>\n",
       "      <td>CA</td>\n",
       "      <td>58000.0</td>\n",
       "      <td>Individual</td>\n",
       "      <td>14.92</td>\n",
       "      <td>Sep-1989</td>\n",
       "      <td>8 years</td>\n",
       "      <td>Truck Driver Delivery Personel</td>\n",
       "      <td>714.0</td>\n",
       "      <td>...</td>\n",
       "      <td>Not Verified</td>\n",
       "      <td>937xx</td>\n",
       "      <td>321.08</td>\n",
       "      <td>9.0</td>\n",
       "      <td>1.0</td>\n",
       "      <td>290.0</td>\n",
       "      <td>41.5</td>\n",
       "      <td>7599.0</td>\n",
       "      <td>9536.0</td>\n",
       "      <td>7.0</td>\n",
       "    </tr>\n",
       "    <tr>\n",
       "      <th>4</th>\n",
       "      <td>1</td>\n",
       "      <td>7650.0</td>\n",
       "      <td>AZ</td>\n",
       "      <td>50000.0</td>\n",
       "      <td>Individual</td>\n",
       "      <td>34.81</td>\n",
       "      <td>Aug-2002</td>\n",
       "      <td>&lt; 1 year</td>\n",
       "      <td>Technical Specialist</td>\n",
       "      <td>689.0</td>\n",
       "      <td>...</td>\n",
       "      <td>Source Verified</td>\n",
       "      <td>850xx</td>\n",
       "      <td>17.70</td>\n",
       "      <td>4.0</td>\n",
       "      <td>8.0</td>\n",
       "      <td>148.0</td>\n",
       "      <td>93.2</td>\n",
       "      <td>332.0</td>\n",
       "      <td>5857.0</td>\n",
       "      <td>6.0</td>\n",
       "    </tr>\n",
       "    <tr>\n",
       "      <th>8</th>\n",
       "      <td>1</td>\n",
       "      <td>23325.0</td>\n",
       "      <td>WA</td>\n",
       "      <td>72000.0</td>\n",
       "      <td>Individual</td>\n",
       "      <td>27.03</td>\n",
       "      <td>Oct-1998</td>\n",
       "      <td>10+ years</td>\n",
       "      <td>Teacher</td>\n",
       "      <td>669.0</td>\n",
       "      <td>...</td>\n",
       "      <td>Source Verified</td>\n",
       "      <td>982xx</td>\n",
       "      <td>800.71</td>\n",
       "      <td>5.0</td>\n",
       "      <td>15.0</td>\n",
       "      <td>194.0</td>\n",
       "      <td>89.0</td>\n",
       "      <td>3977.0</td>\n",
       "      <td>39356.0</td>\n",
       "      <td>6.0</td>\n",
       "    </tr>\n",
       "    <tr>\n",
       "      <th>10</th>\n",
       "      <td>1</td>\n",
       "      <td>10000.0</td>\n",
       "      <td>MI</td>\n",
       "      <td>90000.0</td>\n",
       "      <td>Individual</td>\n",
       "      <td>8.44</td>\n",
       "      <td>Jul-2003</td>\n",
       "      <td>8 years</td>\n",
       "      <td>Investment Consultant</td>\n",
       "      <td>679.0</td>\n",
       "      <td>...</td>\n",
       "      <td>Verified</td>\n",
       "      <td>483xx</td>\n",
       "      <td>332.10</td>\n",
       "      <td>5.0</td>\n",
       "      <td>40.0</td>\n",
       "      <td>124.0</td>\n",
       "      <td>98.5</td>\n",
       "      <td>324.0</td>\n",
       "      <td>4745.0</td>\n",
       "      <td>0.0</td>\n",
       "    </tr>\n",
       "    <tr>\n",
       "      <th>11</th>\n",
       "      <td>1</td>\n",
       "      <td>12975.0</td>\n",
       "      <td>FL</td>\n",
       "      <td>60000.0</td>\n",
       "      <td>Individual</td>\n",
       "      <td>22.42</td>\n",
       "      <td>Jan-1999</td>\n",
       "      <td>10+ years</td>\n",
       "      <td>Sales</td>\n",
       "      <td>684.0</td>\n",
       "      <td>...</td>\n",
       "      <td>Source Verified</td>\n",
       "      <td>331xx</td>\n",
       "      <td>50.00</td>\n",
       "      <td>8.0</td>\n",
       "      <td>2.0</td>\n",
       "      <td>122.0</td>\n",
       "      <td>52.7</td>\n",
       "      <td>2604.0</td>\n",
       "      <td>1571.0</td>\n",
       "      <td>7.0</td>\n",
       "    </tr>\n",
       "  </tbody>\n",
       "</table>\n",
       "<p>5 rows × 40 columns</p>\n",
       "</div>"
      ],
      "text/plain": [
       "    charged_off  funded_amnt addr_state  annual_inc application_type    dti  \\\n",
       "1             1      10400.0         CA     58000.0       Individual  14.92   \n",
       "4             1       7650.0         AZ     50000.0       Individual  34.81   \n",
       "8             1      23325.0         WA     72000.0       Individual  27.03   \n",
       "10            1      10000.0         MI     90000.0       Individual   8.44   \n",
       "11            1      12975.0         FL     60000.0       Individual  22.42   \n",
       "\n",
       "   earliest_cr_line emp_length                       emp_title  \\\n",
       "1          Sep-1989    8 years  Truck Driver Delivery Personel   \n",
       "4          Aug-2002   < 1 year            Technical Specialist   \n",
       "8          Oct-1998  10+ years                         Teacher   \n",
       "10         Jul-2003    8 years           Investment Consultant   \n",
       "11         Jan-1999  10+ years                           Sales   \n",
       "\n",
       "    fico_range_high  ...  verification_status zip_code last_pymnt_amnt  \\\n",
       "1             714.0  ...         Not Verified    937xx          321.08   \n",
       "4             689.0  ...      Source Verified    850xx           17.70   \n",
       "8             669.0  ...      Source Verified    982xx          800.71   \n",
       "10            679.0  ...             Verified    483xx          332.10   \n",
       "11            684.0  ...      Source Verified    331xx           50.00   \n",
       "\n",
       "    num_actv_rev_tl mo_sin_rcnt_rev_tl_op  mo_sin_old_rev_tl_op  bc_util  \\\n",
       "1               9.0                   1.0                 290.0     41.5   \n",
       "4               4.0                   8.0                 148.0     93.2   \n",
       "8               5.0                  15.0                 194.0     89.0   \n",
       "10              5.0                  40.0                 124.0     98.5   \n",
       "11              8.0                   2.0                 122.0     52.7   \n",
       "\n",
       "    bc_open_to_buy avg_cur_bal  acc_open_past_24mths  \n",
       "1           7599.0      9536.0                   7.0  \n",
       "4            332.0      5857.0                   6.0  \n",
       "8           3977.0     39356.0                   6.0  \n",
       "10           324.0      4745.0                   0.0  \n",
       "11          2604.0      1571.0                   7.0  \n",
       "\n",
       "[5 rows x 40 columns]"
      ]
     },
     "execution_count": 22,
     "metadata": {},
     "output_type": "execute_result"
    }
   ],
   "source": [
    "dataset.head(5)"
   ]
  },
  {
   "cell_type": "markdown",
   "metadata": {},
   "source": [
    "### How large is the remaining dataset ?"
   ]
  },
  {
   "cell_type": "code",
   "execution_count": 23,
   "metadata": {},
   "outputs": [
    {
     "data": {
      "text/plain": [
       "(86138, 40)"
      ]
     },
     "execution_count": 23,
     "metadata": {},
     "output_type": "execute_result"
    }
   ],
   "source": [
    "dataset.shape"
   ]
  },
  {
   "cell_type": "markdown",
   "metadata": {},
   "source": [
    "<a id='2.2.3'></a>\n",
    "### 3.2.3.  Features elimination based on the correlation"
   ]
  },
  {
   "cell_type": "markdown",
   "metadata": {},
   "source": [
    "### Now remove all of the features with a correlation of under 3% with the  charge-off label. List the names of the features you are removing."
   ]
  },
  {
   "cell_type": "code",
   "execution_count": 24,
   "metadata": {},
   "outputs": [
    {
     "data": {
      "text/plain": [
       "id                      0.002221\n",
       "pub_rec                 0.016023\n",
       "pub_rec_bankruptcies    0.015815\n",
       "revol_bal              -0.021714\n",
       "total_acc               0.005804\n",
       "Name: charged_off, dtype: float64"
      ]
     },
     "execution_count": 24,
     "metadata": {},
     "output_type": "execute_result"
    }
   ],
   "source": [
    "cor = dataset.corr()\n",
    "low_correlated = abs(cor['charged_off'])<0.03\n",
    "cor['charged_off'][low_correlated]"
   ]
  },
  {
   "cell_type": "code",
   "execution_count": 25,
   "metadata": {},
   "outputs": [
    {
     "data": {
      "text/plain": [
       "Index(['id', 'pub_rec', 'pub_rec_bankruptcies', 'revol_bal', 'total_acc'], dtype='object')"
      ]
     },
     "execution_count": 25,
     "metadata": {},
     "output_type": "execute_result"
    }
   ],
   "source": [
    "name = cor['charged_off'][low_correlated].index\n",
    "name"
   ]
  },
  {
   "cell_type": "code",
   "execution_count": 26,
   "metadata": {},
   "outputs": [],
   "source": [
    "dataset = dataset.drop(name,axis=1)"
   ]
  },
  {
   "cell_type": "code",
   "execution_count": 27,
   "metadata": {},
   "outputs": [
    {
     "data": {
      "text/html": [
       "<div>\n",
       "<style scoped>\n",
       "    .dataframe tbody tr th:only-of-type {\n",
       "        vertical-align: middle;\n",
       "    }\n",
       "\n",
       "    .dataframe tbody tr th {\n",
       "        vertical-align: top;\n",
       "    }\n",
       "\n",
       "    .dataframe thead th {\n",
       "        text-align: right;\n",
       "    }\n",
       "</style>\n",
       "<table border=\"1\" class=\"dataframe\">\n",
       "  <thead>\n",
       "    <tr style=\"text-align: right;\">\n",
       "      <th></th>\n",
       "      <th>charged_off</th>\n",
       "      <th>funded_amnt</th>\n",
       "      <th>addr_state</th>\n",
       "      <th>annual_inc</th>\n",
       "      <th>application_type</th>\n",
       "      <th>dti</th>\n",
       "      <th>earliest_cr_line</th>\n",
       "      <th>emp_length</th>\n",
       "      <th>emp_title</th>\n",
       "      <th>fico_range_high</th>\n",
       "      <th>...</th>\n",
       "      <th>verification_status</th>\n",
       "      <th>zip_code</th>\n",
       "      <th>last_pymnt_amnt</th>\n",
       "      <th>num_actv_rev_tl</th>\n",
       "      <th>mo_sin_rcnt_rev_tl_op</th>\n",
       "      <th>mo_sin_old_rev_tl_op</th>\n",
       "      <th>bc_util</th>\n",
       "      <th>bc_open_to_buy</th>\n",
       "      <th>avg_cur_bal</th>\n",
       "      <th>acc_open_past_24mths</th>\n",
       "    </tr>\n",
       "  </thead>\n",
       "  <tbody>\n",
       "    <tr>\n",
       "      <th>1</th>\n",
       "      <td>1</td>\n",
       "      <td>10400.0</td>\n",
       "      <td>CA</td>\n",
       "      <td>58000.0</td>\n",
       "      <td>Individual</td>\n",
       "      <td>14.92</td>\n",
       "      <td>Sep-1989</td>\n",
       "      <td>8 years</td>\n",
       "      <td>Truck Driver Delivery Personel</td>\n",
       "      <td>714.0</td>\n",
       "      <td>...</td>\n",
       "      <td>Not Verified</td>\n",
       "      <td>937xx</td>\n",
       "      <td>321.08</td>\n",
       "      <td>9.0</td>\n",
       "      <td>1.0</td>\n",
       "      <td>290.0</td>\n",
       "      <td>41.5</td>\n",
       "      <td>7599.0</td>\n",
       "      <td>9536.0</td>\n",
       "      <td>7.0</td>\n",
       "    </tr>\n",
       "    <tr>\n",
       "      <th>4</th>\n",
       "      <td>1</td>\n",
       "      <td>7650.0</td>\n",
       "      <td>AZ</td>\n",
       "      <td>50000.0</td>\n",
       "      <td>Individual</td>\n",
       "      <td>34.81</td>\n",
       "      <td>Aug-2002</td>\n",
       "      <td>&lt; 1 year</td>\n",
       "      <td>Technical Specialist</td>\n",
       "      <td>689.0</td>\n",
       "      <td>...</td>\n",
       "      <td>Source Verified</td>\n",
       "      <td>850xx</td>\n",
       "      <td>17.70</td>\n",
       "      <td>4.0</td>\n",
       "      <td>8.0</td>\n",
       "      <td>148.0</td>\n",
       "      <td>93.2</td>\n",
       "      <td>332.0</td>\n",
       "      <td>5857.0</td>\n",
       "      <td>6.0</td>\n",
       "    </tr>\n",
       "    <tr>\n",
       "      <th>8</th>\n",
       "      <td>1</td>\n",
       "      <td>23325.0</td>\n",
       "      <td>WA</td>\n",
       "      <td>72000.0</td>\n",
       "      <td>Individual</td>\n",
       "      <td>27.03</td>\n",
       "      <td>Oct-1998</td>\n",
       "      <td>10+ years</td>\n",
       "      <td>Teacher</td>\n",
       "      <td>669.0</td>\n",
       "      <td>...</td>\n",
       "      <td>Source Verified</td>\n",
       "      <td>982xx</td>\n",
       "      <td>800.71</td>\n",
       "      <td>5.0</td>\n",
       "      <td>15.0</td>\n",
       "      <td>194.0</td>\n",
       "      <td>89.0</td>\n",
       "      <td>3977.0</td>\n",
       "      <td>39356.0</td>\n",
       "      <td>6.0</td>\n",
       "    </tr>\n",
       "    <tr>\n",
       "      <th>10</th>\n",
       "      <td>1</td>\n",
       "      <td>10000.0</td>\n",
       "      <td>MI</td>\n",
       "      <td>90000.0</td>\n",
       "      <td>Individual</td>\n",
       "      <td>8.44</td>\n",
       "      <td>Jul-2003</td>\n",
       "      <td>8 years</td>\n",
       "      <td>Investment Consultant</td>\n",
       "      <td>679.0</td>\n",
       "      <td>...</td>\n",
       "      <td>Verified</td>\n",
       "      <td>483xx</td>\n",
       "      <td>332.10</td>\n",
       "      <td>5.0</td>\n",
       "      <td>40.0</td>\n",
       "      <td>124.0</td>\n",
       "      <td>98.5</td>\n",
       "      <td>324.0</td>\n",
       "      <td>4745.0</td>\n",
       "      <td>0.0</td>\n",
       "    </tr>\n",
       "    <tr>\n",
       "      <th>11</th>\n",
       "      <td>1</td>\n",
       "      <td>12975.0</td>\n",
       "      <td>FL</td>\n",
       "      <td>60000.0</td>\n",
       "      <td>Individual</td>\n",
       "      <td>22.42</td>\n",
       "      <td>Jan-1999</td>\n",
       "      <td>10+ years</td>\n",
       "      <td>Sales</td>\n",
       "      <td>684.0</td>\n",
       "      <td>...</td>\n",
       "      <td>Source Verified</td>\n",
       "      <td>331xx</td>\n",
       "      <td>50.00</td>\n",
       "      <td>8.0</td>\n",
       "      <td>2.0</td>\n",
       "      <td>122.0</td>\n",
       "      <td>52.7</td>\n",
       "      <td>2604.0</td>\n",
       "      <td>1571.0</td>\n",
       "      <td>7.0</td>\n",
       "    </tr>\n",
       "  </tbody>\n",
       "</table>\n",
       "<p>5 rows × 35 columns</p>\n",
       "</div>"
      ],
      "text/plain": [
       "    charged_off  funded_amnt addr_state  annual_inc application_type    dti  \\\n",
       "1             1      10400.0         CA     58000.0       Individual  14.92   \n",
       "4             1       7650.0         AZ     50000.0       Individual  34.81   \n",
       "8             1      23325.0         WA     72000.0       Individual  27.03   \n",
       "10            1      10000.0         MI     90000.0       Individual   8.44   \n",
       "11            1      12975.0         FL     60000.0       Individual  22.42   \n",
       "\n",
       "   earliest_cr_line emp_length                       emp_title  \\\n",
       "1          Sep-1989    8 years  Truck Driver Delivery Personel   \n",
       "4          Aug-2002   < 1 year            Technical Specialist   \n",
       "8          Oct-1998  10+ years                         Teacher   \n",
       "10         Jul-2003    8 years           Investment Consultant   \n",
       "11         Jan-1999  10+ years                           Sales   \n",
       "\n",
       "    fico_range_high  ...  verification_status zip_code last_pymnt_amnt  \\\n",
       "1             714.0  ...         Not Verified    937xx          321.08   \n",
       "4             689.0  ...      Source Verified    850xx           17.70   \n",
       "8             669.0  ...      Source Verified    982xx          800.71   \n",
       "10            679.0  ...             Verified    483xx          332.10   \n",
       "11            684.0  ...      Source Verified    331xx           50.00   \n",
       "\n",
       "   num_actv_rev_tl  mo_sin_rcnt_rev_tl_op  mo_sin_old_rev_tl_op  bc_util  \\\n",
       "1              9.0                    1.0                 290.0     41.5   \n",
       "4              4.0                    8.0                 148.0     93.2   \n",
       "8              5.0                   15.0                 194.0     89.0   \n",
       "10             5.0                   40.0                 124.0     98.5   \n",
       "11             8.0                    2.0                 122.0     52.7   \n",
       "\n",
       "   bc_open_to_buy  avg_cur_bal  acc_open_past_24mths  \n",
       "1          7599.0       9536.0                   7.0  \n",
       "4           332.0       5857.0                   6.0  \n",
       "8          3977.0      39356.0                   6.0  \n",
       "10          324.0       4745.0                   0.0  \n",
       "11         2604.0       1571.0                   7.0  \n",
       "\n",
       "[5 rows x 35 columns]"
      ]
     },
     "execution_count": 27,
     "metadata": {},
     "output_type": "execute_result"
    }
   ],
   "source": [
    "dataset.head()"
   ]
  },
  {
   "cell_type": "markdown",
   "metadata": {},
   "source": [
    "### How large is the resulting dataset ?"
   ]
  },
  {
   "cell_type": "code",
   "execution_count": 28,
   "metadata": {},
   "outputs": [
    {
     "data": {
      "text/plain": [
       "(86138, 35)"
      ]
     },
     "execution_count": 28,
     "metadata": {},
     "output_type": "execute_result"
    }
   ],
   "source": [
    "dataset.shape"
   ]
  },
  {
   "cell_type": "markdown",
   "metadata": {},
   "source": [
    "<a id='3'></a>\n",
    "# 4. Feature Engineering and Exploratory Analysis"
   ]
  },
  {
   "cell_type": "markdown",
   "metadata": {},
   "source": [
    "### Examine the properties of the remaining features."
   ]
  },
  {
   "cell_type": "code",
   "execution_count": 29,
   "metadata": {},
   "outputs": [
    {
     "name": "stdout",
     "output_type": "stream",
     "text": [
      "<class 'pandas.core.frame.DataFrame'>\n",
      "Int64Index: 86138 entries, 1 to 99999\n",
      "Data columns (total 35 columns):\n",
      " #   Column                 Non-Null Count  Dtype  \n",
      "---  ------                 --------------  -----  \n",
      " 0   charged_off            86138 non-null  int64  \n",
      " 1   funded_amnt            86138 non-null  float64\n",
      " 2   addr_state             86138 non-null  object \n",
      " 3   annual_inc             86138 non-null  float64\n",
      " 4   application_type       86138 non-null  object \n",
      " 5   dti                    86138 non-null  float64\n",
      " 6   earliest_cr_line       86138 non-null  object \n",
      " 7   emp_length             81421 non-null  object \n",
      " 8   emp_title              81416 non-null  object \n",
      " 9   fico_range_high        86138 non-null  float64\n",
      " 10  fico_range_low         86138 non-null  float64\n",
      " 11  grade                  86138 non-null  object \n",
      " 12  home_ownership         86138 non-null  object \n",
      " 13  initial_list_status    86138 non-null  object \n",
      " 14  installment            86138 non-null  float64\n",
      " 15  int_rate               86138 non-null  float64\n",
      " 16  loan_amnt              86138 non-null  float64\n",
      " 17  loan_status            86138 non-null  object \n",
      " 18  mort_acc               86138 non-null  float64\n",
      " 19  open_acc               86138 non-null  float64\n",
      " 20  purpose                86138 non-null  object \n",
      " 21  revol_util             86094 non-null  float64\n",
      " 22  sub_grade              86138 non-null  object \n",
      " 23  term                   86138 non-null  object \n",
      " 24  title                  86138 non-null  object \n",
      " 25  verification_status    86138 non-null  object \n",
      " 26  zip_code               86138 non-null  object \n",
      " 27  last_pymnt_amnt        86138 non-null  float64\n",
      " 28  num_actv_rev_tl        86138 non-null  float64\n",
      " 29  mo_sin_rcnt_rev_tl_op  86138 non-null  float64\n",
      " 30  mo_sin_old_rev_tl_op   86138 non-null  float64\n",
      " 31  bc_util                85089 non-null  float64\n",
      " 32  bc_open_to_buy         85142 non-null  float64\n",
      " 33  avg_cur_bal            86138 non-null  float64\n",
      " 34  acc_open_past_24mths   86138 non-null  float64\n",
      "dtypes: float64(19), int64(1), object(15)\n",
      "memory usage: 23.7+ MB\n"
     ]
    }
   ],
   "source": [
    "dataset.info()"
   ]
  },
  {
   "cell_type": "code",
   "execution_count": 30,
   "metadata": {},
   "outputs": [],
   "source": [
    "def find_missing(x):\n",
    "    missing_value_features = []\n",
    "    for i in range(dataset.shape[1]):\n",
    "        x = dataset.iloc[:,i].count()\n",
    "        if x!=dataset.shape[0]:\n",
    "            missing_value_features.append(dataset.columns[i])\n",
    "    return missing_value_features"
   ]
  },
  {
   "cell_type": "code",
   "execution_count": 31,
   "metadata": {},
   "outputs": [
    {
     "data": {
      "text/plain": [
       "['emp_length', 'emp_title', 'revol_util', 'bc_util', 'bc_open_to_buy']"
      ]
     },
     "execution_count": 31,
     "metadata": {},
     "output_type": "execute_result"
    }
   ],
   "source": [
    "find_missing(dataset)"
   ]
  },
  {
   "cell_type": "markdown",
   "metadata": {},
   "source": [
    "<a id='3.1'></a>\n",
    "## 4.1 Feature Analysis and Exploration"
   ]
  },
  {
   "cell_type": "markdown",
   "metadata": {},
   "source": [
    "<a id='3.1.1'></a>\n",
    "### 4.1.1. Analysing the categorical features "
   ]
  },
  {
   "cell_type": "markdown",
   "metadata": {},
   "source": [
    "### List the categorical features and take a decision on what to do with them - drop them or process them. Explain your decisions."
   ]
  },
  {
   "cell_type": "code",
   "execution_count": 32,
   "metadata": {},
   "outputs": [],
   "source": [
    "def find_cat(x):\n",
    "    cat = x.iloc[:,np.where(x.dtypes==object)[0]]\n",
    "    return cat"
   ]
  },
  {
   "cell_type": "code",
   "execution_count": 33,
   "metadata": {},
   "outputs": [],
   "source": [
    "cat_features = find_cat(dataset)"
   ]
  },
  {
   "cell_type": "code",
   "execution_count": 34,
   "metadata": {},
   "outputs": [
    {
     "name": "stdout",
     "output_type": "stream",
     "text": [
      "<class 'pandas.core.frame.DataFrame'>\n",
      "Int64Index: 86138 entries, 1 to 99999\n",
      "Data columns (total 15 columns):\n",
      " #   Column               Non-Null Count  Dtype \n",
      "---  ------               --------------  ----- \n",
      " 0   addr_state           86138 non-null  object\n",
      " 1   application_type     86138 non-null  object\n",
      " 2   earliest_cr_line     86138 non-null  object\n",
      " 3   emp_length           81421 non-null  object\n",
      " 4   emp_title            81416 non-null  object\n",
      " 5   grade                86138 non-null  object\n",
      " 6   home_ownership       86138 non-null  object\n",
      " 7   initial_list_status  86138 non-null  object\n",
      " 8   loan_status          86138 non-null  object\n",
      " 9   purpose              86138 non-null  object\n",
      " 10  sub_grade            86138 non-null  object\n",
      " 11  term                 86138 non-null  object\n",
      " 12  title                86138 non-null  object\n",
      " 13  verification_status  86138 non-null  object\n",
      " 14  zip_code             86138 non-null  object\n",
      "dtypes: object(15)\n",
      "memory usage: 10.5+ MB\n"
     ]
    }
   ],
   "source": [
    "cat_features.info()"
   ]
  },
  {
   "cell_type": "code",
   "execution_count": 35,
   "metadata": {},
   "outputs": [
    {
     "data": {
      "text/html": [
       "<div>\n",
       "<style scoped>\n",
       "    .dataframe tbody tr th:only-of-type {\n",
       "        vertical-align: middle;\n",
       "    }\n",
       "\n",
       "    .dataframe tbody tr th {\n",
       "        vertical-align: top;\n",
       "    }\n",
       "\n",
       "    .dataframe thead th {\n",
       "        text-align: right;\n",
       "    }\n",
       "</style>\n",
       "<table border=\"1\" class=\"dataframe\">\n",
       "  <thead>\n",
       "    <tr style=\"text-align: right;\">\n",
       "      <th></th>\n",
       "      <th>addr_state</th>\n",
       "      <th>application_type</th>\n",
       "      <th>earliest_cr_line</th>\n",
       "      <th>emp_length</th>\n",
       "      <th>emp_title</th>\n",
       "      <th>grade</th>\n",
       "      <th>home_ownership</th>\n",
       "      <th>initial_list_status</th>\n",
       "      <th>loan_status</th>\n",
       "      <th>purpose</th>\n",
       "      <th>sub_grade</th>\n",
       "      <th>term</th>\n",
       "      <th>title</th>\n",
       "      <th>verification_status</th>\n",
       "      <th>zip_code</th>\n",
       "    </tr>\n",
       "  </thead>\n",
       "  <tbody>\n",
       "    <tr>\n",
       "      <th>1</th>\n",
       "      <td>CA</td>\n",
       "      <td>Individual</td>\n",
       "      <td>Sep-1989</td>\n",
       "      <td>8 years</td>\n",
       "      <td>Truck Driver Delivery Personel</td>\n",
       "      <td>A</td>\n",
       "      <td>MORTGAGE</td>\n",
       "      <td>w</td>\n",
       "      <td>Charged Off</td>\n",
       "      <td>credit_card</td>\n",
       "      <td>A3</td>\n",
       "      <td>36 months</td>\n",
       "      <td>Credit card refinancing</td>\n",
       "      <td>Not Verified</td>\n",
       "      <td>937xx</td>\n",
       "    </tr>\n",
       "    <tr>\n",
       "      <th>4</th>\n",
       "      <td>AZ</td>\n",
       "      <td>Individual</td>\n",
       "      <td>Aug-2002</td>\n",
       "      <td>&lt; 1 year</td>\n",
       "      <td>Technical Specialist</td>\n",
       "      <td>C</td>\n",
       "      <td>RENT</td>\n",
       "      <td>f</td>\n",
       "      <td>Charged Off</td>\n",
       "      <td>debt_consolidation</td>\n",
       "      <td>C3</td>\n",
       "      <td>36 months</td>\n",
       "      <td>Debt consolidation</td>\n",
       "      <td>Source Verified</td>\n",
       "      <td>850xx</td>\n",
       "    </tr>\n",
       "    <tr>\n",
       "      <th>8</th>\n",
       "      <td>WA</td>\n",
       "      <td>Individual</td>\n",
       "      <td>Oct-1998</td>\n",
       "      <td>10+ years</td>\n",
       "      <td>Teacher</td>\n",
       "      <td>C</td>\n",
       "      <td>RENT</td>\n",
       "      <td>f</td>\n",
       "      <td>Charged Off</td>\n",
       "      <td>credit_card</td>\n",
       "      <td>C4</td>\n",
       "      <td>36 months</td>\n",
       "      <td>Credit card refinancing</td>\n",
       "      <td>Source Verified</td>\n",
       "      <td>982xx</td>\n",
       "    </tr>\n",
       "    <tr>\n",
       "      <th>10</th>\n",
       "      <td>MI</td>\n",
       "      <td>Individual</td>\n",
       "      <td>Jul-2003</td>\n",
       "      <td>8 years</td>\n",
       "      <td>Investment Consultant</td>\n",
       "      <td>B</td>\n",
       "      <td>RENT</td>\n",
       "      <td>f</td>\n",
       "      <td>Charged Off</td>\n",
       "      <td>debt_consolidation</td>\n",
       "      <td>B5</td>\n",
       "      <td>36 months</td>\n",
       "      <td>Debt consolidation</td>\n",
       "      <td>Verified</td>\n",
       "      <td>483xx</td>\n",
       "    </tr>\n",
       "    <tr>\n",
       "      <th>11</th>\n",
       "      <td>FL</td>\n",
       "      <td>Individual</td>\n",
       "      <td>Jan-1999</td>\n",
       "      <td>10+ years</td>\n",
       "      <td>Sales</td>\n",
       "      <td>D</td>\n",
       "      <td>RENT</td>\n",
       "      <td>f</td>\n",
       "      <td>Charged Off</td>\n",
       "      <td>house</td>\n",
       "      <td>D5</td>\n",
       "      <td>36 months</td>\n",
       "      <td>Home buying</td>\n",
       "      <td>Source Verified</td>\n",
       "      <td>331xx</td>\n",
       "    </tr>\n",
       "  </tbody>\n",
       "</table>\n",
       "</div>"
      ],
      "text/plain": [
       "   addr_state application_type earliest_cr_line emp_length  \\\n",
       "1          CA       Individual         Sep-1989    8 years   \n",
       "4          AZ       Individual         Aug-2002   < 1 year   \n",
       "8          WA       Individual         Oct-1998  10+ years   \n",
       "10         MI       Individual         Jul-2003    8 years   \n",
       "11         FL       Individual         Jan-1999  10+ years   \n",
       "\n",
       "                         emp_title grade home_ownership initial_list_status  \\\n",
       "1   Truck Driver Delivery Personel     A       MORTGAGE                   w   \n",
       "4             Technical Specialist     C           RENT                   f   \n",
       "8                          Teacher     C           RENT                   f   \n",
       "10           Investment Consultant     B           RENT                   f   \n",
       "11                           Sales     D           RENT                   f   \n",
       "\n",
       "    loan_status             purpose sub_grade        term  \\\n",
       "1   Charged Off         credit_card        A3   36 months   \n",
       "4   Charged Off  debt_consolidation        C3   36 months   \n",
       "8   Charged Off         credit_card        C4   36 months   \n",
       "10  Charged Off  debt_consolidation        B5   36 months   \n",
       "11  Charged Off               house        D5   36 months   \n",
       "\n",
       "                      title verification_status zip_code  \n",
       "1   Credit card refinancing        Not Verified    937xx  \n",
       "4        Debt consolidation     Source Verified    850xx  \n",
       "8   Credit card refinancing     Source Verified    982xx  \n",
       "10       Debt consolidation            Verified    483xx  \n",
       "11              Home buying     Source Verified    331xx  "
      ]
     },
     "execution_count": 35,
     "metadata": {},
     "output_type": "execute_result"
    }
   ],
   "source": [
    "cat_features.head()"
   ]
  },
  {
   "cell_type": "code",
   "execution_count": 36,
   "metadata": {},
   "outputs": [],
   "source": [
    "# Because  earliest_cr_line, zip code and emp_title  seems will not influence the loan status, therefore decide to drop them\n",
    "drop = ['earliest_cr_line', 'zip_code','emp_title','title']\n",
    "dataset = dataset.drop(drop,axis=1)"
   ]
  },
  {
   "cell_type": "code",
   "execution_count": 37,
   "metadata": {},
   "outputs": [
    {
     "data": {
      "text/html": [
       "<div>\n",
       "<style scoped>\n",
       "    .dataframe tbody tr th:only-of-type {\n",
       "        vertical-align: middle;\n",
       "    }\n",
       "\n",
       "    .dataframe tbody tr th {\n",
       "        vertical-align: top;\n",
       "    }\n",
       "\n",
       "    .dataframe thead th {\n",
       "        text-align: right;\n",
       "    }\n",
       "</style>\n",
       "<table border=\"1\" class=\"dataframe\">\n",
       "  <thead>\n",
       "    <tr style=\"text-align: right;\">\n",
       "      <th></th>\n",
       "      <th>charged_off</th>\n",
       "      <th>funded_amnt</th>\n",
       "      <th>addr_state</th>\n",
       "      <th>annual_inc</th>\n",
       "      <th>application_type</th>\n",
       "      <th>dti</th>\n",
       "      <th>emp_length</th>\n",
       "      <th>fico_range_high</th>\n",
       "      <th>fico_range_low</th>\n",
       "      <th>grade</th>\n",
       "      <th>...</th>\n",
       "      <th>term</th>\n",
       "      <th>verification_status</th>\n",
       "      <th>last_pymnt_amnt</th>\n",
       "      <th>num_actv_rev_tl</th>\n",
       "      <th>mo_sin_rcnt_rev_tl_op</th>\n",
       "      <th>mo_sin_old_rev_tl_op</th>\n",
       "      <th>bc_util</th>\n",
       "      <th>bc_open_to_buy</th>\n",
       "      <th>avg_cur_bal</th>\n",
       "      <th>acc_open_past_24mths</th>\n",
       "    </tr>\n",
       "  </thead>\n",
       "  <tbody>\n",
       "    <tr>\n",
       "      <th>1</th>\n",
       "      <td>1</td>\n",
       "      <td>10400.0</td>\n",
       "      <td>CA</td>\n",
       "      <td>58000.0</td>\n",
       "      <td>Individual</td>\n",
       "      <td>14.92</td>\n",
       "      <td>8 years</td>\n",
       "      <td>714.0</td>\n",
       "      <td>710.0</td>\n",
       "      <td>A</td>\n",
       "      <td>...</td>\n",
       "      <td>36 months</td>\n",
       "      <td>Not Verified</td>\n",
       "      <td>321.08</td>\n",
       "      <td>9.0</td>\n",
       "      <td>1.0</td>\n",
       "      <td>290.0</td>\n",
       "      <td>41.5</td>\n",
       "      <td>7599.0</td>\n",
       "      <td>9536.0</td>\n",
       "      <td>7.0</td>\n",
       "    </tr>\n",
       "    <tr>\n",
       "      <th>4</th>\n",
       "      <td>1</td>\n",
       "      <td>7650.0</td>\n",
       "      <td>AZ</td>\n",
       "      <td>50000.0</td>\n",
       "      <td>Individual</td>\n",
       "      <td>34.81</td>\n",
       "      <td>&lt; 1 year</td>\n",
       "      <td>689.0</td>\n",
       "      <td>685.0</td>\n",
       "      <td>C</td>\n",
       "      <td>...</td>\n",
       "      <td>36 months</td>\n",
       "      <td>Source Verified</td>\n",
       "      <td>17.70</td>\n",
       "      <td>4.0</td>\n",
       "      <td>8.0</td>\n",
       "      <td>148.0</td>\n",
       "      <td>93.2</td>\n",
       "      <td>332.0</td>\n",
       "      <td>5857.0</td>\n",
       "      <td>6.0</td>\n",
       "    </tr>\n",
       "    <tr>\n",
       "      <th>8</th>\n",
       "      <td>1</td>\n",
       "      <td>23325.0</td>\n",
       "      <td>WA</td>\n",
       "      <td>72000.0</td>\n",
       "      <td>Individual</td>\n",
       "      <td>27.03</td>\n",
       "      <td>10+ years</td>\n",
       "      <td>669.0</td>\n",
       "      <td>665.0</td>\n",
       "      <td>C</td>\n",
       "      <td>...</td>\n",
       "      <td>36 months</td>\n",
       "      <td>Source Verified</td>\n",
       "      <td>800.71</td>\n",
       "      <td>5.0</td>\n",
       "      <td>15.0</td>\n",
       "      <td>194.0</td>\n",
       "      <td>89.0</td>\n",
       "      <td>3977.0</td>\n",
       "      <td>39356.0</td>\n",
       "      <td>6.0</td>\n",
       "    </tr>\n",
       "    <tr>\n",
       "      <th>10</th>\n",
       "      <td>1</td>\n",
       "      <td>10000.0</td>\n",
       "      <td>MI</td>\n",
       "      <td>90000.0</td>\n",
       "      <td>Individual</td>\n",
       "      <td>8.44</td>\n",
       "      <td>8 years</td>\n",
       "      <td>679.0</td>\n",
       "      <td>675.0</td>\n",
       "      <td>B</td>\n",
       "      <td>...</td>\n",
       "      <td>36 months</td>\n",
       "      <td>Verified</td>\n",
       "      <td>332.10</td>\n",
       "      <td>5.0</td>\n",
       "      <td>40.0</td>\n",
       "      <td>124.0</td>\n",
       "      <td>98.5</td>\n",
       "      <td>324.0</td>\n",
       "      <td>4745.0</td>\n",
       "      <td>0.0</td>\n",
       "    </tr>\n",
       "    <tr>\n",
       "      <th>11</th>\n",
       "      <td>1</td>\n",
       "      <td>12975.0</td>\n",
       "      <td>FL</td>\n",
       "      <td>60000.0</td>\n",
       "      <td>Individual</td>\n",
       "      <td>22.42</td>\n",
       "      <td>10+ years</td>\n",
       "      <td>684.0</td>\n",
       "      <td>680.0</td>\n",
       "      <td>D</td>\n",
       "      <td>...</td>\n",
       "      <td>36 months</td>\n",
       "      <td>Source Verified</td>\n",
       "      <td>50.00</td>\n",
       "      <td>8.0</td>\n",
       "      <td>2.0</td>\n",
       "      <td>122.0</td>\n",
       "      <td>52.7</td>\n",
       "      <td>2604.0</td>\n",
       "      <td>1571.0</td>\n",
       "      <td>7.0</td>\n",
       "    </tr>\n",
       "  </tbody>\n",
       "</table>\n",
       "<p>5 rows × 31 columns</p>\n",
       "</div>"
      ],
      "text/plain": [
       "    charged_off  funded_amnt addr_state  annual_inc application_type    dti  \\\n",
       "1             1      10400.0         CA     58000.0       Individual  14.92   \n",
       "4             1       7650.0         AZ     50000.0       Individual  34.81   \n",
       "8             1      23325.0         WA     72000.0       Individual  27.03   \n",
       "10            1      10000.0         MI     90000.0       Individual   8.44   \n",
       "11            1      12975.0         FL     60000.0       Individual  22.42   \n",
       "\n",
       "   emp_length  fico_range_high  fico_range_low grade  ...        term  \\\n",
       "1     8 years            714.0           710.0     A  ...   36 months   \n",
       "4    < 1 year            689.0           685.0     C  ...   36 months   \n",
       "8   10+ years            669.0           665.0     C  ...   36 months   \n",
       "10    8 years            679.0           675.0     B  ...   36 months   \n",
       "11  10+ years            684.0           680.0     D  ...   36 months   \n",
       "\n",
       "   verification_status  last_pymnt_amnt  num_actv_rev_tl  \\\n",
       "1         Not Verified           321.08              9.0   \n",
       "4      Source Verified            17.70              4.0   \n",
       "8      Source Verified           800.71              5.0   \n",
       "10            Verified           332.10              5.0   \n",
       "11     Source Verified            50.00              8.0   \n",
       "\n",
       "    mo_sin_rcnt_rev_tl_op mo_sin_old_rev_tl_op  bc_util  bc_open_to_buy  \\\n",
       "1                     1.0                290.0     41.5          7599.0   \n",
       "4                     8.0                148.0     93.2           332.0   \n",
       "8                    15.0                194.0     89.0          3977.0   \n",
       "10                   40.0                124.0     98.5           324.0   \n",
       "11                    2.0                122.0     52.7          2604.0   \n",
       "\n",
       "   avg_cur_bal  acc_open_past_24mths  \n",
       "1       9536.0                   7.0  \n",
       "4       5857.0                   6.0  \n",
       "8      39356.0                   6.0  \n",
       "10      4745.0                   0.0  \n",
       "11      1571.0                   7.0  \n",
       "\n",
       "[5 rows x 31 columns]"
      ]
     },
     "execution_count": 37,
     "metadata": {},
     "output_type": "execute_result"
    }
   ],
   "source": [
    "dataset.head()"
   ]
  },
  {
   "cell_type": "markdown",
   "metadata": {},
   "source": [
    "### Convert Term to a numerical feature"
   ]
  },
  {
   "cell_type": "code",
   "execution_count": 38,
   "metadata": {},
   "outputs": [],
   "source": [
    "def cov(t):\n",
    "    i=0\n",
    "    m={}\n",
    "    test = t.unique()\n",
    "    while i<test.shape[0]:\n",
    "        c = np.where(test == test[i])[0][0]\n",
    "        m1 = {test[i]:c}\n",
    "        m.update(m1)\n",
    "        i+=1\n",
    "    return m"
   ]
  },
  {
   "cell_type": "code",
   "execution_count": 39,
   "metadata": {},
   "outputs": [],
   "source": [
    "m = cov(dataset.term)"
   ]
  },
  {
   "cell_type": "code",
   "execution_count": 40,
   "metadata": {},
   "outputs": [
    {
     "data": {
      "text/plain": [
       "{' 36 months': 0, ' 60 months': 1}"
      ]
     },
     "execution_count": 40,
     "metadata": {},
     "output_type": "execute_result"
    }
   ],
   "source": [
    "m"
   ]
  },
  {
   "cell_type": "code",
   "execution_count": 41,
   "metadata": {},
   "outputs": [],
   "source": [
    "dataset['term'] = dataset['term'].map(m)"
   ]
  },
  {
   "cell_type": "markdown",
   "metadata": {},
   "source": [
    "m0={'8 years':0,'< 1 year':1,'10+ years':2,'4 years':3,'9 years':4,'nan':5, '2 years':6,'3 years':7,'5 years':8,\n",
    "   '1 year':9,'7 years':10,'6 years':11}\n",
    "object_data.iloc[:,0] = object_data.iloc[:,0].map(m0)"
   ]
  },
  {
   "cell_type": "markdown",
   "metadata": {},
   "source": [
    "m1=cov(1)\n",
    "m2=cov(2)\n",
    "m3=cov(3)\n",
    "m4=cov(4)\n",
    "m5=cov(5)\n",
    "m6=cov(6)\n",
    "m7=cov(7)\n",
    "m8=cov(8)\n",
    "m9=cov(9)"
   ]
  },
  {
   "cell_type": "markdown",
   "metadata": {},
   "source": [
    "object_data.iloc[:,1]=object_data.iloc[:,1].map(m1)\n",
    "object_data.iloc[:,2]=object_data.iloc[:,2].map(m2)\n",
    "object_data.iloc[:,3]=object_data.iloc[:,3].map(m3)\n",
    "object_data.iloc[:,4]=object_data.iloc[:,4].map(m4)\n",
    "object_data.iloc[:,5]=object_data.iloc[:,5].map(m5)\n",
    "object_data.iloc[:,6]=object_data.iloc[:,6].map(m6)\n",
    "object_data.iloc[:,7]=object_data.iloc[:,7].map(m7)\n",
    "object_data.iloc[:,8]=object_data.iloc[:,8].map(m8)\n",
    "object_data.iloc[:,9]=object_data.iloc[:,9].map(m9)"
   ]
  },
  {
   "cell_type": "markdown",
   "metadata": {},
   "source": [
    "object_data"
   ]
  },
  {
   "cell_type": "markdown",
   "metadata": {},
   "source": [
    "c = object_data.columns\n",
    "dataset = dataset.drop(c,axis=1)\n",
    "dataset.shape# without categorical features"
   ]
  },
  {
   "cell_type": "markdown",
   "metadata": {},
   "source": [
    "dataset = pd.concat([dataset,object_data],axis=1)\n",
    "dataset.shape"
   ]
  },
  {
   "cell_type": "code",
   "execution_count": 42,
   "metadata": {},
   "outputs": [
    {
     "name": "stdout",
     "output_type": "stream",
     "text": [
      "<class 'pandas.core.frame.DataFrame'>\n",
      "Int64Index: 86138 entries, 1 to 99999\n",
      "Data columns (total 31 columns):\n",
      " #   Column                 Non-Null Count  Dtype  \n",
      "---  ------                 --------------  -----  \n",
      " 0   charged_off            86138 non-null  int64  \n",
      " 1   funded_amnt            86138 non-null  float64\n",
      " 2   addr_state             86138 non-null  object \n",
      " 3   annual_inc             86138 non-null  float64\n",
      " 4   application_type       86138 non-null  object \n",
      " 5   dti                    86138 non-null  float64\n",
      " 6   emp_length             81421 non-null  object \n",
      " 7   fico_range_high        86138 non-null  float64\n",
      " 8   fico_range_low         86138 non-null  float64\n",
      " 9   grade                  86138 non-null  object \n",
      " 10  home_ownership         86138 non-null  object \n",
      " 11  initial_list_status    86138 non-null  object \n",
      " 12  installment            86138 non-null  float64\n",
      " 13  int_rate               86138 non-null  float64\n",
      " 14  loan_amnt              86138 non-null  float64\n",
      " 15  loan_status            86138 non-null  object \n",
      " 16  mort_acc               86138 non-null  float64\n",
      " 17  open_acc               86138 non-null  float64\n",
      " 18  purpose                86138 non-null  object \n",
      " 19  revol_util             86094 non-null  float64\n",
      " 20  sub_grade              86138 non-null  object \n",
      " 21  term                   86138 non-null  int64  \n",
      " 22  verification_status    86138 non-null  object \n",
      " 23  last_pymnt_amnt        86138 non-null  float64\n",
      " 24  num_actv_rev_tl        86138 non-null  float64\n",
      " 25  mo_sin_rcnt_rev_tl_op  86138 non-null  float64\n",
      " 26  mo_sin_old_rev_tl_op   86138 non-null  float64\n",
      " 27  bc_util                85089 non-null  float64\n",
      " 28  bc_open_to_buy         85142 non-null  float64\n",
      " 29  avg_cur_bal            86138 non-null  float64\n",
      " 30  acc_open_past_24mths   86138 non-null  float64\n",
      "dtypes: float64(19), int64(2), object(10)\n",
      "memory usage: 21.0+ MB\n"
     ]
    }
   ],
   "source": [
    "dataset.info()"
   ]
  },
  {
   "cell_type": "markdown",
   "metadata": {},
   "source": [
    "### Decide if you want to do anything to emp_length"
   ]
  },
  {
   "cell_type": "code",
   "execution_count": 43,
   "metadata": {},
   "outputs": [
    {
     "name": "stdout",
     "output_type": "stream",
     "text": [
      "<class 'pandas.core.frame.DataFrame'>\n",
      "Int64Index: 80460 entries, 1 to 99999\n",
      "Data columns (total 31 columns):\n",
      " #   Column                 Non-Null Count  Dtype  \n",
      "---  ------                 --------------  -----  \n",
      " 0   charged_off            80460 non-null  int64  \n",
      " 1   funded_amnt            80460 non-null  float64\n",
      " 2   addr_state             80460 non-null  object \n",
      " 3   annual_inc             80460 non-null  float64\n",
      " 4   application_type       80460 non-null  object \n",
      " 5   dti                    80460 non-null  float64\n",
      " 6   emp_length             80460 non-null  object \n",
      " 7   fico_range_high        80460 non-null  float64\n",
      " 8   fico_range_low         80460 non-null  float64\n",
      " 9   grade                  80460 non-null  object \n",
      " 10  home_ownership         80460 non-null  object \n",
      " 11  initial_list_status    80460 non-null  object \n",
      " 12  installment            80460 non-null  float64\n",
      " 13  int_rate               80460 non-null  float64\n",
      " 14  loan_amnt              80460 non-null  float64\n",
      " 15  loan_status            80460 non-null  object \n",
      " 16  mort_acc               80460 non-null  float64\n",
      " 17  open_acc               80460 non-null  float64\n",
      " 18  purpose                80460 non-null  object \n",
      " 19  revol_util             80460 non-null  float64\n",
      " 20  sub_grade              80460 non-null  object \n",
      " 21  term                   80460 non-null  int64  \n",
      " 22  verification_status    80460 non-null  object \n",
      " 23  last_pymnt_amnt        80460 non-null  float64\n",
      " 24  num_actv_rev_tl        80460 non-null  float64\n",
      " 25  mo_sin_rcnt_rev_tl_op  80460 non-null  float64\n",
      " 26  mo_sin_old_rev_tl_op   80460 non-null  float64\n",
      " 27  bc_util                80460 non-null  float64\n",
      " 28  bc_open_to_buy         80460 non-null  float64\n",
      " 29  avg_cur_bal            80460 non-null  float64\n",
      " 30  acc_open_past_24mths   80460 non-null  float64\n",
      "dtypes: float64(19), int64(2), object(10)\n",
      "memory usage: 19.6+ MB\n"
     ]
    }
   ],
   "source": [
    "dataset = dataset.dropna()\n",
    "dataset.info()"
   ]
  },
  {
   "cell_type": "code",
   "execution_count": 44,
   "metadata": {},
   "outputs": [
    {
     "data": {
      "text/plain": [
       "{'8 years': 0,\n",
       " '< 1 year': 1,\n",
       " '10+ years': 2,\n",
       " '9 years': 3,\n",
       " '4 years': 4,\n",
       " '2 years': 5,\n",
       " '3 years': 6,\n",
       " '5 years': 7,\n",
       " '1 year': 8,\n",
       " '7 years': 9,\n",
       " '6 years': 10}"
      ]
     },
     "execution_count": 44,
     "metadata": {},
     "output_type": "execute_result"
    }
   ],
   "source": [
    "m = cov(dataset.emp_length) # since too many categories here, so decide to devide emp_length into three groups\n",
    "m"
   ]
  },
  {
   "cell_type": "code",
   "execution_count": 45,
   "metadata": {},
   "outputs": [],
   "source": [
    "dataset.emp_length = dataset.emp_length.map(m)"
   ]
  },
  {
   "cell_type": "code",
   "execution_count": 46,
   "metadata": {},
   "outputs": [],
   "source": [
    "c1 = (1,4,5,6,8) # less than 5 years\n",
    "c2 = (0,3,7,9,10) # between 5 years to 10 years\n",
    "c3 = (2) # above 10 years"
   ]
  },
  {
   "cell_type": "code",
   "execution_count": 47,
   "metadata": {},
   "outputs": [],
   "source": [
    "a1 = np.where(dataset.emp_length==1)[0]\n",
    "a2 = np.where(dataset.emp_length==4)[0]\n",
    "a3 = np.where(dataset.emp_length==5)[0]\n",
    "a4 = np.where(dataset.emp_length==6)[0]\n",
    "a5 = np.where(dataset.emp_length==8)[0]\n",
    "a = np.concatenate([a1,a2,a3,a4,a5])\n",
    "\n",
    "b1 = np.where(dataset.emp_length==0)[0]\n",
    "b2 = np.where(dataset.emp_length==3)[0]\n",
    "b3 = np.where(dataset.emp_length==7)[0]\n",
    "b4 = np.where(dataset.emp_length==9)[0]\n",
    "b5 = np.where(dataset.emp_length==10)[0]\n",
    "b = np.concatenate([b1,b2,b3,b4,b5])\n",
    "\n",
    "c=np.where(dataset.emp_length==2)[0]"
   ]
  },
  {
   "cell_type": "code",
   "execution_count": 48,
   "metadata": {},
   "outputs": [],
   "source": [
    "dataset.emp_length.iloc[a] = 0 # less than 5 years\n",
    "dataset.emp_length.iloc[b] = 1 # between 5 years to 10 years\n",
    "dataset.emp_length.iloc[c] = 2 # above 10 years"
   ]
  },
  {
   "cell_type": "code",
   "execution_count": 49,
   "metadata": {},
   "outputs": [
    {
     "data": {
      "text/plain": [
       "0    31934\n",
       "2    27796\n",
       "1    20730\n",
       "Name: emp_length, dtype: int64"
      ]
     },
     "execution_count": 49,
     "metadata": {},
     "output_type": "execute_result"
    }
   ],
   "source": [
    "dataset.emp_length.value_counts()"
   ]
  },
  {
   "cell_type": "markdown",
   "metadata": {},
   "source": [
    "### Is sub_grade worth keeping ?"
   ]
  },
  {
   "cell_type": "code",
   "execution_count": 50,
   "metadata": {},
   "outputs": [
    {
     "data": {
      "text/plain": [
       "array(['A3', 'C3', 'C4', 'B5', 'D5', 'D3', 'C5', 'D4', 'C2', 'G2', 'C1',\n",
       "       'G1', 'F3', 'D1', 'F2', 'B3', 'E2', 'G3', 'B2', 'F1', 'B4', 'E1',\n",
       "       'E5', 'E4', 'B1', 'D2', 'F4', 'A2', 'A4', 'A5', 'F5', 'E3', 'A1',\n",
       "       'G4', 'G5'], dtype=object)"
      ]
     },
     "execution_count": 50,
     "metadata": {},
     "output_type": "execute_result"
    }
   ],
   "source": [
    "dataset['sub_grade'].unique() # sub_grade is not worthy to keep, since it has too many categories"
   ]
  },
  {
   "cell_type": "code",
   "execution_count": 51,
   "metadata": {},
   "outputs": [],
   "source": [
    "dataset = dataset.drop('sub_grade',axis=1)"
   ]
  },
  {
   "cell_type": "code",
   "execution_count": 52,
   "metadata": {},
   "outputs": [
    {
     "data": {
      "text/plain": [
       "(80460, 30)"
      ]
     },
     "execution_count": 52,
     "metadata": {},
     "output_type": "execute_result"
    }
   ],
   "source": [
    "dataset.shape"
   ]
  },
  {
   "cell_type": "markdown",
   "metadata": {},
   "source": [
    "<a id='3.1.2'></a>\n",
    "### 4.1.2. Analysing the continuous features "
   ]
  },
  {
   "cell_type": "markdown",
   "metadata": {},
   "source": [
    "### Do you want to do anything to Annual Income ?"
   ]
  },
  {
   "cell_type": "markdown",
   "metadata": {},
   "source": [
    "#### Feature : Annual Income"
   ]
  },
  {
   "cell_type": "code",
   "execution_count": 53,
   "metadata": {},
   "outputs": [
    {
     "data": {
      "text/plain": [
       "count    8.046000e+04\n",
       "mean     7.538587e+04\n",
       "std      6.004028e+04\n",
       "min      4.000000e+03\n",
       "25%      4.500000e+04\n",
       "50%      6.500000e+04\n",
       "75%      9.000000e+04\n",
       "max      7.500000e+06\n",
       "Name: annual_inc, dtype: float64"
      ]
     },
     "execution_count": 53,
     "metadata": {},
     "output_type": "execute_result"
    }
   ],
   "source": [
    "dataset.describe()['annual_inc'] # split them into 4 part according to quartile range"
   ]
  },
  {
   "cell_type": "code",
   "execution_count": 54,
   "metadata": {},
   "outputs": [],
   "source": [
    "col= 'annual_inc'\n",
    "conditions  = [dataset[col] <= 4.500000e+4,\n",
    "               (dataset[col] > 4.500000e+4) & (dataset[col] <= 6.500000e+04),\n",
    "                (dataset[col] > 6.500000e+04) & (dataset[col] <= 9.000000e+04),\n",
    "                (dataset[col] > 9.000000e+04) & (dataset[col] <= 7.500000e+06)]\n",
    "choices     = [ 0, 1, 2,3 ] # split them into 4 part according to quartile range\n",
    "dataset['annual_inc'] = np.select(conditions, choices, default=np.nan)"
   ]
  },
  {
   "cell_type": "code",
   "execution_count": 55,
   "metadata": {},
   "outputs": [
    {
     "data": {
      "text/plain": [
       "1        1.0\n",
       "4        1.0\n",
       "8        2.0\n",
       "10       2.0\n",
       "11       1.0\n",
       "        ... \n",
       "99993    2.0\n",
       "99994    2.0\n",
       "99995    3.0\n",
       "99996    1.0\n",
       "99999    1.0\n",
       "Name: annual_inc, Length: 80460, dtype: float64"
      ]
     },
     "execution_count": 55,
     "metadata": {},
     "output_type": "execute_result"
    }
   ],
   "source": [
    "dataset.annual_inc"
   ]
  },
  {
   "cell_type": "markdown",
   "metadata": {},
   "source": [
    "### How do you want to treat the two FICO scores ?"
   ]
  },
  {
   "cell_type": "code",
   "execution_count": 56,
   "metadata": {},
   "outputs": [
    {
     "data": {
      "text/html": [
       "<div>\n",
       "<style scoped>\n",
       "    .dataframe tbody tr th:only-of-type {\n",
       "        vertical-align: middle;\n",
       "    }\n",
       "\n",
       "    .dataframe tbody tr th {\n",
       "        vertical-align: top;\n",
       "    }\n",
       "\n",
       "    .dataframe thead th {\n",
       "        text-align: right;\n",
       "    }\n",
       "</style>\n",
       "<table border=\"1\" class=\"dataframe\">\n",
       "  <thead>\n",
       "    <tr style=\"text-align: right;\">\n",
       "      <th></th>\n",
       "      <th>fico_range_high</th>\n",
       "      <th>fico_range_low</th>\n",
       "    </tr>\n",
       "  </thead>\n",
       "  <tbody>\n",
       "    <tr>\n",
       "      <th>1</th>\n",
       "      <td>714.0</td>\n",
       "      <td>710.0</td>\n",
       "    </tr>\n",
       "    <tr>\n",
       "      <th>4</th>\n",
       "      <td>689.0</td>\n",
       "      <td>685.0</td>\n",
       "    </tr>\n",
       "    <tr>\n",
       "      <th>8</th>\n",
       "      <td>669.0</td>\n",
       "      <td>665.0</td>\n",
       "    </tr>\n",
       "    <tr>\n",
       "      <th>10</th>\n",
       "      <td>679.0</td>\n",
       "      <td>675.0</td>\n",
       "    </tr>\n",
       "    <tr>\n",
       "      <th>11</th>\n",
       "      <td>684.0</td>\n",
       "      <td>680.0</td>\n",
       "    </tr>\n",
       "    <tr>\n",
       "      <th>...</th>\n",
       "      <td>...</td>\n",
       "      <td>...</td>\n",
       "    </tr>\n",
       "    <tr>\n",
       "      <th>99993</th>\n",
       "      <td>704.0</td>\n",
       "      <td>700.0</td>\n",
       "    </tr>\n",
       "    <tr>\n",
       "      <th>99994</th>\n",
       "      <td>704.0</td>\n",
       "      <td>700.0</td>\n",
       "    </tr>\n",
       "    <tr>\n",
       "      <th>99995</th>\n",
       "      <td>709.0</td>\n",
       "      <td>705.0</td>\n",
       "    </tr>\n",
       "    <tr>\n",
       "      <th>99996</th>\n",
       "      <td>694.0</td>\n",
       "      <td>690.0</td>\n",
       "    </tr>\n",
       "    <tr>\n",
       "      <th>99999</th>\n",
       "      <td>734.0</td>\n",
       "      <td>730.0</td>\n",
       "    </tr>\n",
       "  </tbody>\n",
       "</table>\n",
       "<p>80460 rows × 2 columns</p>\n",
       "</div>"
      ],
      "text/plain": [
       "       fico_range_high  fico_range_low\n",
       "1                714.0           710.0\n",
       "4                689.0           685.0\n",
       "8                669.0           665.0\n",
       "10               679.0           675.0\n",
       "11               684.0           680.0\n",
       "...                ...             ...\n",
       "99993            704.0           700.0\n",
       "99994            704.0           700.0\n",
       "99995            709.0           705.0\n",
       "99996            694.0           690.0\n",
       "99999            734.0           730.0\n",
       "\n",
       "[80460 rows x 2 columns]"
      ]
     },
     "execution_count": 56,
     "metadata": {},
     "output_type": "execute_result"
    }
   ],
   "source": [
    "dataset[['fico_range_high','fico_range_low']]"
   ]
  },
  {
   "cell_type": "code",
   "execution_count": 57,
   "metadata": {},
   "outputs": [
    {
     "data": {
      "text/html": [
       "<div>\n",
       "<style scoped>\n",
       "    .dataframe tbody tr th:only-of-type {\n",
       "        vertical-align: middle;\n",
       "    }\n",
       "\n",
       "    .dataframe tbody tr th {\n",
       "        vertical-align: top;\n",
       "    }\n",
       "\n",
       "    .dataframe thead th {\n",
       "        text-align: right;\n",
       "    }\n",
       "</style>\n",
       "<table border=\"1\" class=\"dataframe\">\n",
       "  <thead>\n",
       "    <tr style=\"text-align: right;\">\n",
       "      <th></th>\n",
       "      <th>fico_range_high</th>\n",
       "      <th>fico_range_low</th>\n",
       "    </tr>\n",
       "  </thead>\n",
       "  <tbody>\n",
       "    <tr>\n",
       "      <th>fico_range_high</th>\n",
       "      <td>1.0</td>\n",
       "      <td>1.0</td>\n",
       "    </tr>\n",
       "    <tr>\n",
       "      <th>fico_range_low</th>\n",
       "      <td>1.0</td>\n",
       "      <td>1.0</td>\n",
       "    </tr>\n",
       "  </tbody>\n",
       "</table>\n",
       "</div>"
      ],
      "text/plain": [
       "                 fico_range_high  fico_range_low\n",
       "fico_range_high              1.0             1.0\n",
       "fico_range_low               1.0             1.0"
      ]
     },
     "execution_count": 57,
     "metadata": {},
     "output_type": "execute_result"
    }
   ],
   "source": [
    "dataset[['fico_range_high','fico_range_low']].corr() # perfect correlated with each other"
   ]
  },
  {
   "cell_type": "code",
   "execution_count": 58,
   "metadata": {},
   "outputs": [
    {
     "data": {
      "text/plain": [
       "fico_range_high  fico_range_low\n",
       "664.0            660.0             8362\n",
       "669.0            665.0             7851\n",
       "674.0            670.0             7656\n",
       "679.0            675.0             6703\n",
       "684.0            680.0             6347\n",
       "689.0            685.0             5722\n",
       "694.0            690.0             5395\n",
       "699.0            695.0             4871\n",
       "704.0            700.0             4138\n",
       "709.0            705.0             3732\n",
       "714.0            710.0             3222\n",
       "719.0            715.0             2825\n",
       "724.0            720.0             2325\n",
       "729.0            725.0             1853\n",
       "734.0            730.0             1607\n",
       "739.0            735.0             1234\n",
       "744.0            740.0             1026\n",
       "749.0            745.0              809\n",
       "754.0            750.0              709\n",
       "759.0            755.0              633\n",
       "764.0            760.0              531\n",
       "769.0            765.0              501\n",
       "779.0            775.0              376\n",
       "774.0            770.0              357\n",
       "784.0            780.0              349\n",
       "789.0            785.0              235\n",
       "794.0            790.0              218\n",
       "799.0            795.0              188\n",
       "804.0            800.0              179\n",
       "809.0            805.0              136\n",
       "814.0            810.0              105\n",
       "819.0            815.0               91\n",
       "824.0            820.0               68\n",
       "829.0            825.0               45\n",
       "839.0            835.0               25\n",
       "834.0            830.0               25\n",
       "844.0            840.0                6\n",
       "850.0            845.0                5\n",
       "dtype: int64"
      ]
     },
     "execution_count": 58,
     "metadata": {},
     "output_type": "execute_result"
    }
   ],
   "source": [
    "dataset[['fico_range_high','fico_range_low']].value_counts() # seems same measurement just with tiny difference roughly 4 scores"
   ]
  },
  {
   "cell_type": "code",
   "execution_count": 59,
   "metadata": {},
   "outputs": [
    {
     "data": {
      "text/plain": [
       "(80460, 29)"
      ]
     },
     "execution_count": 59,
     "metadata": {},
     "output_type": "execute_result"
    }
   ],
   "source": [
    "dataset = dataset.drop('fico_range_high',axis=1)\n",
    "dataset.shape # drop one of them"
   ]
  },
  {
   "cell_type": "markdown",
   "metadata": {},
   "source": [
    "<a id='3.2'></a>\n",
    "## 4.2. Encoding Categorical Data"
   ]
  },
  {
   "cell_type": "markdown",
   "metadata": {},
   "source": [
    "### Decide how to handle the categorical data in columns ['grade', 'sub_grade', 'home_ownership', 'verification_status', 'purpose', 'addr_state', 'initial_list_status', 'application_type']\n",
    "\n",
    "### You may wish to use a LabelEncoder\n"
   ]
  },
  {
   "cell_type": "code",
   "execution_count": 60,
   "metadata": {},
   "outputs": [
    {
     "data": {
      "text/html": [
       "<div>\n",
       "<style scoped>\n",
       "    .dataframe tbody tr th:only-of-type {\n",
       "        vertical-align: middle;\n",
       "    }\n",
       "\n",
       "    .dataframe tbody tr th {\n",
       "        vertical-align: top;\n",
       "    }\n",
       "\n",
       "    .dataframe thead th {\n",
       "        text-align: right;\n",
       "    }\n",
       "</style>\n",
       "<table border=\"1\" class=\"dataframe\">\n",
       "  <thead>\n",
       "    <tr style=\"text-align: right;\">\n",
       "      <th></th>\n",
       "      <th>charged_off</th>\n",
       "      <th>funded_amnt</th>\n",
       "      <th>addr_state</th>\n",
       "      <th>annual_inc</th>\n",
       "      <th>application_type</th>\n",
       "      <th>dti</th>\n",
       "      <th>emp_length</th>\n",
       "      <th>fico_range_low</th>\n",
       "      <th>grade</th>\n",
       "      <th>home_ownership</th>\n",
       "      <th>...</th>\n",
       "      <th>term</th>\n",
       "      <th>verification_status</th>\n",
       "      <th>last_pymnt_amnt</th>\n",
       "      <th>num_actv_rev_tl</th>\n",
       "      <th>mo_sin_rcnt_rev_tl_op</th>\n",
       "      <th>mo_sin_old_rev_tl_op</th>\n",
       "      <th>bc_util</th>\n",
       "      <th>bc_open_to_buy</th>\n",
       "      <th>avg_cur_bal</th>\n",
       "      <th>acc_open_past_24mths</th>\n",
       "    </tr>\n",
       "  </thead>\n",
       "  <tbody>\n",
       "    <tr>\n",
       "      <th>1</th>\n",
       "      <td>1</td>\n",
       "      <td>10400.0</td>\n",
       "      <td>CA</td>\n",
       "      <td>1.0</td>\n",
       "      <td>Individual</td>\n",
       "      <td>14.92</td>\n",
       "      <td>1</td>\n",
       "      <td>710.0</td>\n",
       "      <td>A</td>\n",
       "      <td>MORTGAGE</td>\n",
       "      <td>...</td>\n",
       "      <td>0</td>\n",
       "      <td>Not Verified</td>\n",
       "      <td>321.08</td>\n",
       "      <td>9.0</td>\n",
       "      <td>1.0</td>\n",
       "      <td>290.0</td>\n",
       "      <td>41.5</td>\n",
       "      <td>7599.0</td>\n",
       "      <td>9536.0</td>\n",
       "      <td>7.0</td>\n",
       "    </tr>\n",
       "    <tr>\n",
       "      <th>4</th>\n",
       "      <td>1</td>\n",
       "      <td>7650.0</td>\n",
       "      <td>AZ</td>\n",
       "      <td>1.0</td>\n",
       "      <td>Individual</td>\n",
       "      <td>34.81</td>\n",
       "      <td>0</td>\n",
       "      <td>685.0</td>\n",
       "      <td>C</td>\n",
       "      <td>RENT</td>\n",
       "      <td>...</td>\n",
       "      <td>0</td>\n",
       "      <td>Source Verified</td>\n",
       "      <td>17.70</td>\n",
       "      <td>4.0</td>\n",
       "      <td>8.0</td>\n",
       "      <td>148.0</td>\n",
       "      <td>93.2</td>\n",
       "      <td>332.0</td>\n",
       "      <td>5857.0</td>\n",
       "      <td>6.0</td>\n",
       "    </tr>\n",
       "    <tr>\n",
       "      <th>8</th>\n",
       "      <td>1</td>\n",
       "      <td>23325.0</td>\n",
       "      <td>WA</td>\n",
       "      <td>2.0</td>\n",
       "      <td>Individual</td>\n",
       "      <td>27.03</td>\n",
       "      <td>2</td>\n",
       "      <td>665.0</td>\n",
       "      <td>C</td>\n",
       "      <td>RENT</td>\n",
       "      <td>...</td>\n",
       "      <td>0</td>\n",
       "      <td>Source Verified</td>\n",
       "      <td>800.71</td>\n",
       "      <td>5.0</td>\n",
       "      <td>15.0</td>\n",
       "      <td>194.0</td>\n",
       "      <td>89.0</td>\n",
       "      <td>3977.0</td>\n",
       "      <td>39356.0</td>\n",
       "      <td>6.0</td>\n",
       "    </tr>\n",
       "    <tr>\n",
       "      <th>10</th>\n",
       "      <td>1</td>\n",
       "      <td>10000.0</td>\n",
       "      <td>MI</td>\n",
       "      <td>2.0</td>\n",
       "      <td>Individual</td>\n",
       "      <td>8.44</td>\n",
       "      <td>1</td>\n",
       "      <td>675.0</td>\n",
       "      <td>B</td>\n",
       "      <td>RENT</td>\n",
       "      <td>...</td>\n",
       "      <td>0</td>\n",
       "      <td>Verified</td>\n",
       "      <td>332.10</td>\n",
       "      <td>5.0</td>\n",
       "      <td>40.0</td>\n",
       "      <td>124.0</td>\n",
       "      <td>98.5</td>\n",
       "      <td>324.0</td>\n",
       "      <td>4745.0</td>\n",
       "      <td>0.0</td>\n",
       "    </tr>\n",
       "    <tr>\n",
       "      <th>11</th>\n",
       "      <td>1</td>\n",
       "      <td>12975.0</td>\n",
       "      <td>FL</td>\n",
       "      <td>1.0</td>\n",
       "      <td>Individual</td>\n",
       "      <td>22.42</td>\n",
       "      <td>2</td>\n",
       "      <td>680.0</td>\n",
       "      <td>D</td>\n",
       "      <td>RENT</td>\n",
       "      <td>...</td>\n",
       "      <td>0</td>\n",
       "      <td>Source Verified</td>\n",
       "      <td>50.00</td>\n",
       "      <td>8.0</td>\n",
       "      <td>2.0</td>\n",
       "      <td>122.0</td>\n",
       "      <td>52.7</td>\n",
       "      <td>2604.0</td>\n",
       "      <td>1571.0</td>\n",
       "      <td>7.0</td>\n",
       "    </tr>\n",
       "  </tbody>\n",
       "</table>\n",
       "<p>5 rows × 29 columns</p>\n",
       "</div>"
      ],
      "text/plain": [
       "    charged_off  funded_amnt addr_state  annual_inc application_type    dti  \\\n",
       "1             1      10400.0         CA         1.0       Individual  14.92   \n",
       "4             1       7650.0         AZ         1.0       Individual  34.81   \n",
       "8             1      23325.0         WA         2.0       Individual  27.03   \n",
       "10            1      10000.0         MI         2.0       Individual   8.44   \n",
       "11            1      12975.0         FL         1.0       Individual  22.42   \n",
       "\n",
       "    emp_length  fico_range_low grade home_ownership  ... term  \\\n",
       "1            1           710.0     A       MORTGAGE  ...    0   \n",
       "4            0           685.0     C           RENT  ...    0   \n",
       "8            2           665.0     C           RENT  ...    0   \n",
       "10           1           675.0     B           RENT  ...    0   \n",
       "11           2           680.0     D           RENT  ...    0   \n",
       "\n",
       "    verification_status  last_pymnt_amnt  num_actv_rev_tl  \\\n",
       "1          Not Verified           321.08              9.0   \n",
       "4       Source Verified            17.70              4.0   \n",
       "8       Source Verified           800.71              5.0   \n",
       "10             Verified           332.10              5.0   \n",
       "11      Source Verified            50.00              8.0   \n",
       "\n",
       "   mo_sin_rcnt_rev_tl_op  mo_sin_old_rev_tl_op  bc_util bc_open_to_buy  \\\n",
       "1                    1.0                 290.0     41.5         7599.0   \n",
       "4                    8.0                 148.0     93.2          332.0   \n",
       "8                   15.0                 194.0     89.0         3977.0   \n",
       "10                  40.0                 124.0     98.5          324.0   \n",
       "11                   2.0                 122.0     52.7         2604.0   \n",
       "\n",
       "    avg_cur_bal  acc_open_past_24mths  \n",
       "1        9536.0                   7.0  \n",
       "4        5857.0                   6.0  \n",
       "8       39356.0                   6.0  \n",
       "10       4745.0                   0.0  \n",
       "11       1571.0                   7.0  \n",
       "\n",
       "[5 rows x 29 columns]"
      ]
     },
     "execution_count": 60,
     "metadata": {},
     "output_type": "execute_result"
    }
   ],
   "source": [
    "dataset.head()"
   ]
  },
  {
   "cell_type": "code",
   "execution_count": 61,
   "metadata": {},
   "outputs": [],
   "source": [
    "col = ['grade', 'home_ownership', 'verification_status', 'purpose',\n",
    "        'addr_state', 'initial_list_status', 'application_type']"
   ]
  },
  {
   "cell_type": "code",
   "execution_count": 62,
   "metadata": {},
   "outputs": [
    {
     "data": {
      "text/html": [
       "<div>\n",
       "<style scoped>\n",
       "    .dataframe tbody tr th:only-of-type {\n",
       "        vertical-align: middle;\n",
       "    }\n",
       "\n",
       "    .dataframe tbody tr th {\n",
       "        vertical-align: top;\n",
       "    }\n",
       "\n",
       "    .dataframe thead th {\n",
       "        text-align: right;\n",
       "    }\n",
       "</style>\n",
       "<table border=\"1\" class=\"dataframe\">\n",
       "  <thead>\n",
       "    <tr style=\"text-align: right;\">\n",
       "      <th></th>\n",
       "      <th>grade</th>\n",
       "      <th>home_ownership</th>\n",
       "      <th>verification_status</th>\n",
       "      <th>purpose</th>\n",
       "      <th>addr_state</th>\n",
       "      <th>initial_list_status</th>\n",
       "      <th>application_type</th>\n",
       "    </tr>\n",
       "  </thead>\n",
       "  <tbody>\n",
       "    <tr>\n",
       "      <th>1</th>\n",
       "      <td>A</td>\n",
       "      <td>MORTGAGE</td>\n",
       "      <td>Not Verified</td>\n",
       "      <td>credit_card</td>\n",
       "      <td>CA</td>\n",
       "      <td>w</td>\n",
       "      <td>Individual</td>\n",
       "    </tr>\n",
       "    <tr>\n",
       "      <th>4</th>\n",
       "      <td>C</td>\n",
       "      <td>RENT</td>\n",
       "      <td>Source Verified</td>\n",
       "      <td>debt_consolidation</td>\n",
       "      <td>AZ</td>\n",
       "      <td>f</td>\n",
       "      <td>Individual</td>\n",
       "    </tr>\n",
       "    <tr>\n",
       "      <th>8</th>\n",
       "      <td>C</td>\n",
       "      <td>RENT</td>\n",
       "      <td>Source Verified</td>\n",
       "      <td>credit_card</td>\n",
       "      <td>WA</td>\n",
       "      <td>f</td>\n",
       "      <td>Individual</td>\n",
       "    </tr>\n",
       "    <tr>\n",
       "      <th>10</th>\n",
       "      <td>B</td>\n",
       "      <td>RENT</td>\n",
       "      <td>Verified</td>\n",
       "      <td>debt_consolidation</td>\n",
       "      <td>MI</td>\n",
       "      <td>f</td>\n",
       "      <td>Individual</td>\n",
       "    </tr>\n",
       "    <tr>\n",
       "      <th>11</th>\n",
       "      <td>D</td>\n",
       "      <td>RENT</td>\n",
       "      <td>Source Verified</td>\n",
       "      <td>house</td>\n",
       "      <td>FL</td>\n",
       "      <td>f</td>\n",
       "      <td>Individual</td>\n",
       "    </tr>\n",
       "    <tr>\n",
       "      <th>...</th>\n",
       "      <td>...</td>\n",
       "      <td>...</td>\n",
       "      <td>...</td>\n",
       "      <td>...</td>\n",
       "      <td>...</td>\n",
       "      <td>...</td>\n",
       "      <td>...</td>\n",
       "    </tr>\n",
       "    <tr>\n",
       "      <th>99993</th>\n",
       "      <td>D</td>\n",
       "      <td>MORTGAGE</td>\n",
       "      <td>Source Verified</td>\n",
       "      <td>debt_consolidation</td>\n",
       "      <td>MN</td>\n",
       "      <td>w</td>\n",
       "      <td>Individual</td>\n",
       "    </tr>\n",
       "    <tr>\n",
       "      <th>99994</th>\n",
       "      <td>B</td>\n",
       "      <td>MORTGAGE</td>\n",
       "      <td>Not Verified</td>\n",
       "      <td>debt_consolidation</td>\n",
       "      <td>AR</td>\n",
       "      <td>f</td>\n",
       "      <td>Individual</td>\n",
       "    </tr>\n",
       "    <tr>\n",
       "      <th>99995</th>\n",
       "      <td>B</td>\n",
       "      <td>MORTGAGE</td>\n",
       "      <td>Source Verified</td>\n",
       "      <td>debt_consolidation</td>\n",
       "      <td>IL</td>\n",
       "      <td>w</td>\n",
       "      <td>Individual</td>\n",
       "    </tr>\n",
       "    <tr>\n",
       "      <th>99996</th>\n",
       "      <td>C</td>\n",
       "      <td>RENT</td>\n",
       "      <td>Not Verified</td>\n",
       "      <td>debt_consolidation</td>\n",
       "      <td>NM</td>\n",
       "      <td>f</td>\n",
       "      <td>Individual</td>\n",
       "    </tr>\n",
       "    <tr>\n",
       "      <th>99999</th>\n",
       "      <td>B</td>\n",
       "      <td>OWN</td>\n",
       "      <td>Source Verified</td>\n",
       "      <td>debt_consolidation</td>\n",
       "      <td>IN</td>\n",
       "      <td>w</td>\n",
       "      <td>Individual</td>\n",
       "    </tr>\n",
       "  </tbody>\n",
       "</table>\n",
       "<p>80460 rows × 7 columns</p>\n",
       "</div>"
      ],
      "text/plain": [
       "      grade home_ownership verification_status             purpose addr_state  \\\n",
       "1         A       MORTGAGE        Not Verified         credit_card         CA   \n",
       "4         C           RENT     Source Verified  debt_consolidation         AZ   \n",
       "8         C           RENT     Source Verified         credit_card         WA   \n",
       "10        B           RENT            Verified  debt_consolidation         MI   \n",
       "11        D           RENT     Source Verified               house         FL   \n",
       "...     ...            ...                 ...                 ...        ...   \n",
       "99993     D       MORTGAGE     Source Verified  debt_consolidation         MN   \n",
       "99994     B       MORTGAGE        Not Verified  debt_consolidation         AR   \n",
       "99995     B       MORTGAGE     Source Verified  debt_consolidation         IL   \n",
       "99996     C           RENT        Not Verified  debt_consolidation         NM   \n",
       "99999     B            OWN     Source Verified  debt_consolidation         IN   \n",
       "\n",
       "      initial_list_status application_type  \n",
       "1                       w       Individual  \n",
       "4                       f       Individual  \n",
       "8                       f       Individual  \n",
       "10                      f       Individual  \n",
       "11                      f       Individual  \n",
       "...                   ...              ...  \n",
       "99993                   w       Individual  \n",
       "99994                   f       Individual  \n",
       "99995                   w       Individual  \n",
       "99996                   f       Individual  \n",
       "99999                   w       Individual  \n",
       "\n",
       "[80460 rows x 7 columns]"
      ]
     },
     "execution_count": 62,
     "metadata": {},
     "output_type": "execute_result"
    }
   ],
   "source": [
    "df = dataset[col]\n",
    "df"
   ]
  },
  {
   "cell_type": "code",
   "execution_count": 63,
   "metadata": {},
   "outputs": [],
   "source": [
    "le = preprocessing.LabelEncoder()"
   ]
  },
  {
   "cell_type": "code",
   "execution_count": 64,
   "metadata": {},
   "outputs": [
    {
     "data": {
      "text/html": [
       "<div>\n",
       "<style scoped>\n",
       "    .dataframe tbody tr th:only-of-type {\n",
       "        vertical-align: middle;\n",
       "    }\n",
       "\n",
       "    .dataframe tbody tr th {\n",
       "        vertical-align: top;\n",
       "    }\n",
       "\n",
       "    .dataframe thead th {\n",
       "        text-align: right;\n",
       "    }\n",
       "</style>\n",
       "<table border=\"1\" class=\"dataframe\">\n",
       "  <thead>\n",
       "    <tr style=\"text-align: right;\">\n",
       "      <th></th>\n",
       "      <th>grade</th>\n",
       "      <th>home_ownership</th>\n",
       "      <th>verification_status</th>\n",
       "      <th>purpose</th>\n",
       "      <th>addr_state</th>\n",
       "      <th>initial_list_status</th>\n",
       "      <th>application_type</th>\n",
       "    </tr>\n",
       "  </thead>\n",
       "  <tbody>\n",
       "    <tr>\n",
       "      <th>1</th>\n",
       "      <td>0</td>\n",
       "      <td>1</td>\n",
       "      <td>0</td>\n",
       "      <td>1</td>\n",
       "      <td>4</td>\n",
       "      <td>1</td>\n",
       "      <td>0</td>\n",
       "    </tr>\n",
       "    <tr>\n",
       "      <th>4</th>\n",
       "      <td>2</td>\n",
       "      <td>3</td>\n",
       "      <td>1</td>\n",
       "      <td>2</td>\n",
       "      <td>3</td>\n",
       "      <td>0</td>\n",
       "      <td>0</td>\n",
       "    </tr>\n",
       "    <tr>\n",
       "      <th>8</th>\n",
       "      <td>2</td>\n",
       "      <td>3</td>\n",
       "      <td>1</td>\n",
       "      <td>1</td>\n",
       "      <td>42</td>\n",
       "      <td>0</td>\n",
       "      <td>0</td>\n",
       "    </tr>\n",
       "    <tr>\n",
       "      <th>10</th>\n",
       "      <td>1</td>\n",
       "      <td>3</td>\n",
       "      <td>2</td>\n",
       "      <td>2</td>\n",
       "      <td>19</td>\n",
       "      <td>0</td>\n",
       "      <td>0</td>\n",
       "    </tr>\n",
       "    <tr>\n",
       "      <th>11</th>\n",
       "      <td>3</td>\n",
       "      <td>3</td>\n",
       "      <td>1</td>\n",
       "      <td>4</td>\n",
       "      <td>9</td>\n",
       "      <td>0</td>\n",
       "      <td>0</td>\n",
       "    </tr>\n",
       "    <tr>\n",
       "      <th>...</th>\n",
       "      <td>...</td>\n",
       "      <td>...</td>\n",
       "      <td>...</td>\n",
       "      <td>...</td>\n",
       "      <td>...</td>\n",
       "      <td>...</td>\n",
       "      <td>...</td>\n",
       "    </tr>\n",
       "    <tr>\n",
       "      <th>99993</th>\n",
       "      <td>3</td>\n",
       "      <td>1</td>\n",
       "      <td>1</td>\n",
       "      <td>2</td>\n",
       "      <td>20</td>\n",
       "      <td>1</td>\n",
       "      <td>0</td>\n",
       "    </tr>\n",
       "    <tr>\n",
       "      <th>99994</th>\n",
       "      <td>1</td>\n",
       "      <td>1</td>\n",
       "      <td>0</td>\n",
       "      <td>2</td>\n",
       "      <td>2</td>\n",
       "      <td>0</td>\n",
       "      <td>0</td>\n",
       "    </tr>\n",
       "    <tr>\n",
       "      <th>99995</th>\n",
       "      <td>1</td>\n",
       "      <td>1</td>\n",
       "      <td>1</td>\n",
       "      <td>2</td>\n",
       "      <td>12</td>\n",
       "      <td>1</td>\n",
       "      <td>0</td>\n",
       "    </tr>\n",
       "    <tr>\n",
       "      <th>99996</th>\n",
       "      <td>2</td>\n",
       "      <td>3</td>\n",
       "      <td>0</td>\n",
       "      <td>2</td>\n",
       "      <td>27</td>\n",
       "      <td>0</td>\n",
       "      <td>0</td>\n",
       "    </tr>\n",
       "    <tr>\n",
       "      <th>99999</th>\n",
       "      <td>1</td>\n",
       "      <td>2</td>\n",
       "      <td>1</td>\n",
       "      <td>2</td>\n",
       "      <td>13</td>\n",
       "      <td>1</td>\n",
       "      <td>0</td>\n",
       "    </tr>\n",
       "  </tbody>\n",
       "</table>\n",
       "<p>80460 rows × 7 columns</p>\n",
       "</div>"
      ],
      "text/plain": [
       "       grade  home_ownership  verification_status  purpose  addr_state  \\\n",
       "1          0               1                    0        1           4   \n",
       "4          2               3                    1        2           3   \n",
       "8          2               3                    1        1          42   \n",
       "10         1               3                    2        2          19   \n",
       "11         3               3                    1        4           9   \n",
       "...      ...             ...                  ...      ...         ...   \n",
       "99993      3               1                    1        2          20   \n",
       "99994      1               1                    0        2           2   \n",
       "99995      1               1                    1        2          12   \n",
       "99996      2               3                    0        2          27   \n",
       "99999      1               2                    1        2          13   \n",
       "\n",
       "       initial_list_status  application_type  \n",
       "1                        1                 0  \n",
       "4                        0                 0  \n",
       "8                        0                 0  \n",
       "10                       0                 0  \n",
       "11                       0                 0  \n",
       "...                    ...               ...  \n",
       "99993                    1                 0  \n",
       "99994                    0                 0  \n",
       "99995                    1                 0  \n",
       "99996                    0                 0  \n",
       "99999                    1                 0  \n",
       "\n",
       "[80460 rows x 7 columns]"
      ]
     },
     "execution_count": 64,
     "metadata": {},
     "output_type": "execute_result"
    }
   ],
   "source": [
    "LE = df.apply(le.fit_transform)\n",
    "LE"
   ]
  },
  {
   "cell_type": "code",
   "execution_count": 65,
   "metadata": {},
   "outputs": [],
   "source": [
    "dataset = dataset.drop(df.columns,axis=1)"
   ]
  },
  {
   "cell_type": "code",
   "execution_count": 66,
   "metadata": {},
   "outputs": [],
   "source": [
    "dataset = pd.concat([dataset,LE],axis=1)"
   ]
  },
  {
   "cell_type": "markdown",
   "metadata": {},
   "source": [
    "<a id='3.4'></a>\n",
    "## 4.3. Sampling Data"
   ]
  },
  {
   "cell_type": "markdown",
   "metadata": {},
   "source": [
    "### To create a balanced dataset, draw 5500 rows at random from each of the two classes and combine them into a new dataframe."
   ]
  },
  {
   "cell_type": "code",
   "execution_count": 67,
   "metadata": {},
   "outputs": [
    {
     "data": {
      "text/plain": [
       "0    65637\n",
       "1    14823\n",
       "Name: charged_off, dtype: int64"
      ]
     },
     "execution_count": 67,
     "metadata": {},
     "output_type": "execute_result"
    }
   ],
   "source": [
    "dataset.charged_off.value_counts()"
   ]
  },
  {
   "cell_type": "code",
   "execution_count": 68,
   "metadata": {},
   "outputs": [],
   "source": [
    "sample1 = dataset.iloc[np.where(dataset.charged_off==1)[0]].sample(n=5500)\n",
    "sample2 = dataset.iloc[np.where(dataset.charged_off==0)[0]].sample(n=5500)"
   ]
  },
  {
   "cell_type": "code",
   "execution_count": 69,
   "metadata": {},
   "outputs": [
    {
     "data": {
      "text/plain": [
       "(11000, 29)"
      ]
     },
     "execution_count": 69,
     "metadata": {},
     "output_type": "execute_result"
    }
   ],
   "source": [
    "df = pd.concat([sample1,sample2],axis=0)\n",
    "df.shape"
   ]
  },
  {
   "cell_type": "markdown",
   "metadata": {},
   "source": [
    "### Choose a method to handle any NAs that may be in a column."
   ]
  },
  {
   "cell_type": "code",
   "execution_count": 70,
   "metadata": {},
   "outputs": [
    {
     "data": {
      "text/plain": [
       "charged_off              False\n",
       "funded_amnt              False\n",
       "annual_inc               False\n",
       "dti                      False\n",
       "emp_length               False\n",
       "fico_range_low           False\n",
       "installment              False\n",
       "int_rate                 False\n",
       "loan_amnt                False\n",
       "loan_status              False\n",
       "mort_acc                 False\n",
       "open_acc                 False\n",
       "revol_util               False\n",
       "term                     False\n",
       "last_pymnt_amnt          False\n",
       "num_actv_rev_tl          False\n",
       "mo_sin_rcnt_rev_tl_op    False\n",
       "mo_sin_old_rev_tl_op     False\n",
       "bc_util                  False\n",
       "bc_open_to_buy           False\n",
       "avg_cur_bal              False\n",
       "acc_open_past_24mths     False\n",
       "grade                    False\n",
       "home_ownership           False\n",
       "verification_status      False\n",
       "purpose                  False\n",
       "addr_state               False\n",
       "initial_list_status      False\n",
       "application_type         False\n",
       "dtype: bool"
      ]
     },
     "execution_count": 70,
     "metadata": {},
     "output_type": "execute_result"
    }
   ],
   "source": [
    "df.isnull().any()"
   ]
  },
  {
   "cell_type": "code",
   "execution_count": 71,
   "metadata": {},
   "outputs": [],
   "source": [
    "# didn't find missing value here, it has been handled above"
   ]
  },
  {
   "cell_type": "code",
   "execution_count": 72,
   "metadata": {},
   "outputs": [],
   "source": [
    "df = df.drop('loan_status',axis=1) # since loan_status has been transferred to charged_off features in numerical way, therefore drop it"
   ]
  },
  {
   "cell_type": "markdown",
   "metadata": {},
   "source": [
    "<a id='4'></a>\n",
    "# 5. Evaluate Algorithms and Models"
   ]
  },
  {
   "cell_type": "markdown",
   "metadata": {},
   "source": [
    "<a id='4.1'></a>\n",
    "## 5.1. Train Test Split"
   ]
  },
  {
   "cell_type": "markdown",
   "metadata": {},
   "source": [
    "### Use an 80:20 split"
   ]
  },
  {
   "cell_type": "code",
   "execution_count": 73,
   "metadata": {},
   "outputs": [],
   "source": [
    "y = df['charged_off']\n",
    "X = df.drop('charged_off',axis=1)"
   ]
  },
  {
   "cell_type": "code",
   "execution_count": 74,
   "metadata": {},
   "outputs": [],
   "source": [
    "X_train, X_test, y_train, y_test = train_test_split(X, y, test_size=0.2, random_state=42)"
   ]
  },
  {
   "cell_type": "markdown",
   "metadata": {},
   "source": [
    "<a id='4.2'></a>\n",
    "## 5.2. Test Options and Evaluation Metrics\n"
   ]
  },
  {
   "cell_type": "markdown",
   "metadata": {},
   "source": [
    "### Use K-Folds cross validation with 10 folds and 'roc-auc' as your score."
   ]
  },
  {
   "cell_type": "code",
   "execution_count": 76,
   "metadata": {},
   "outputs": [],
   "source": [
    "from sklearn.model_selection import KFold\n",
    "from sklearn.model_selection import cross_val_score\n",
    "from sklearn.metrics import auc\n",
    "from sklearn import model_selection\n",
    "from sklearn.metrics import classification_report\n",
    "kf = KFold(n_splits=10,random_state=42,shuffle=True)"
   ]
  },
  {
   "cell_type": "markdown",
   "metadata": {},
   "source": [
    "<a id='4.3'></a>\n",
    "## 5.3. Compare Models and Algorithms"
   ]
  },
  {
   "cell_type": "markdown",
   "metadata": {},
   "source": [
    "### Use a wide range of classification models. I have added them below to a Python list."
   ]
  },
  {
   "cell_type": "code",
   "execution_count": 78,
   "metadata": {
    "_cell_guid": "772802f7-f4e4-84ee-6377-6464ab2e5da4"
   },
   "outputs": [],
   "source": [
    "# spot check the algorithms\n",
    "models = []\n",
    "models.append(('LR', LogisticRegression()))\n",
    "models.append(('KNN', KNeighborsClassifier()))\n",
    "models.append(('DT', DecisionTreeClassifier()))\n",
    "models.append(('NB', GaussianNB()))\n",
    "# Neural Network\n",
    "models.append(('NN', MLPClassifier()))\n",
    "# Boosting methods\n",
    "models.append(('AB', AdaBoostClassifier()))\n",
    "# Bagging methods\n",
    "models.append(('RF', RandomForestClassifier()))"
   ]
  },
  {
   "cell_type": "markdown",
   "metadata": {},
   "source": [
    "### K-folds cross validation"
   ]
  },
  {
   "cell_type": "code",
   "execution_count": 79,
   "metadata": {},
   "outputs": [
    {
     "data": {
      "text/plain": [
       "[('LR', LogisticRegression()),\n",
       " ('KNN', KNeighborsClassifier()),\n",
       " ('DT', DecisionTreeClassifier()),\n",
       " ('NB', GaussianNB()),\n",
       " ('NN', MLPClassifier()),\n",
       " ('AB', AdaBoostClassifier()),\n",
       " ('RF', RandomForestClassifier())]"
      ]
     },
     "execution_count": 79,
     "metadata": {},
     "output_type": "execute_result"
    }
   ],
   "source": [
    "models"
   ]
  },
  {
   "cell_type": "code",
   "execution_count": 80,
   "metadata": {},
   "outputs": [
    {
     "data": {
      "text/html": [
       "<div>\n",
       "<style scoped>\n",
       "    .dataframe tbody tr th:only-of-type {\n",
       "        vertical-align: middle;\n",
       "    }\n",
       "\n",
       "    .dataframe tbody tr th {\n",
       "        vertical-align: top;\n",
       "    }\n",
       "\n",
       "    .dataframe thead th {\n",
       "        text-align: right;\n",
       "    }\n",
       "</style>\n",
       "<table border=\"1\" class=\"dataframe\">\n",
       "  <thead>\n",
       "    <tr style=\"text-align: right;\">\n",
       "      <th></th>\n",
       "      <th>LR</th>\n",
       "      <th>KNN</th>\n",
       "      <th>DT</th>\n",
       "      <th>NB</th>\n",
       "      <th>NN</th>\n",
       "      <th>AB</th>\n",
       "      <th>RF</th>\n",
       "    </tr>\n",
       "  </thead>\n",
       "  <tbody>\n",
       "    <tr>\n",
       "      <th>0</th>\n",
       "      <td>0.884611</td>\n",
       "      <td>0.815073</td>\n",
       "      <td>0.791956</td>\n",
       "      <td>0.891746</td>\n",
       "      <td>0.852363</td>\n",
       "      <td>0.923725</td>\n",
       "      <td>0.933834</td>\n",
       "    </tr>\n",
       "    <tr>\n",
       "      <th>1</th>\n",
       "      <td>0.897603</td>\n",
       "      <td>0.810704</td>\n",
       "      <td>0.815106</td>\n",
       "      <td>0.892158</td>\n",
       "      <td>0.894147</td>\n",
       "      <td>0.937588</td>\n",
       "      <td>0.931532</td>\n",
       "    </tr>\n",
       "    <tr>\n",
       "      <th>2</th>\n",
       "      <td>0.900475</td>\n",
       "      <td>0.827392</td>\n",
       "      <td>0.816806</td>\n",
       "      <td>0.899927</td>\n",
       "      <td>0.883291</td>\n",
       "      <td>0.932053</td>\n",
       "      <td>0.934567</td>\n",
       "    </tr>\n",
       "    <tr>\n",
       "      <th>3</th>\n",
       "      <td>0.893919</td>\n",
       "      <td>0.805191</td>\n",
       "      <td>0.815534</td>\n",
       "      <td>0.895310</td>\n",
       "      <td>0.873788</td>\n",
       "      <td>0.943644</td>\n",
       "      <td>0.943980</td>\n",
       "    </tr>\n",
       "    <tr>\n",
       "      <th>4</th>\n",
       "      <td>0.910883</td>\n",
       "      <td>0.827150</td>\n",
       "      <td>0.805694</td>\n",
       "      <td>0.905836</td>\n",
       "      <td>0.891306</td>\n",
       "      <td>0.943256</td>\n",
       "      <td>0.940607</td>\n",
       "    </tr>\n",
       "    <tr>\n",
       "      <th>5</th>\n",
       "      <td>0.898680</td>\n",
       "      <td>0.811869</td>\n",
       "      <td>0.798993</td>\n",
       "      <td>0.894759</td>\n",
       "      <td>0.873108</td>\n",
       "      <td>0.932047</td>\n",
       "      <td>0.927624</td>\n",
       "    </tr>\n",
       "    <tr>\n",
       "      <th>6</th>\n",
       "      <td>0.911174</td>\n",
       "      <td>0.823186</td>\n",
       "      <td>0.817910</td>\n",
       "      <td>0.895888</td>\n",
       "      <td>0.915499</td>\n",
       "      <td>0.937572</td>\n",
       "      <td>0.941625</td>\n",
       "    </tr>\n",
       "    <tr>\n",
       "      <th>7</th>\n",
       "      <td>0.886962</td>\n",
       "      <td>0.816602</td>\n",
       "      <td>0.800056</td>\n",
       "      <td>0.905172</td>\n",
       "      <td>0.898863</td>\n",
       "      <td>0.932808</td>\n",
       "      <td>0.941406</td>\n",
       "    </tr>\n",
       "    <tr>\n",
       "      <th>8</th>\n",
       "      <td>0.897476</td>\n",
       "      <td>0.814177</td>\n",
       "      <td>0.803365</td>\n",
       "      <td>0.908074</td>\n",
       "      <td>0.883650</td>\n",
       "      <td>0.941179</td>\n",
       "      <td>0.940396</td>\n",
       "    </tr>\n",
       "    <tr>\n",
       "      <th>9</th>\n",
       "      <td>0.894514</td>\n",
       "      <td>0.814041</td>\n",
       "      <td>0.811110</td>\n",
       "      <td>0.894524</td>\n",
       "      <td>0.871061</td>\n",
       "      <td>0.930808</td>\n",
       "      <td>0.933487</td>\n",
       "    </tr>\n",
       "  </tbody>\n",
       "</table>\n",
       "</div>"
      ],
      "text/plain": [
       "         LR       KNN        DT        NB        NN        AB        RF\n",
       "0  0.884611  0.815073  0.791956  0.891746  0.852363  0.923725  0.933834\n",
       "1  0.897603  0.810704  0.815106  0.892158  0.894147  0.937588  0.931532\n",
       "2  0.900475  0.827392  0.816806  0.899927  0.883291  0.932053  0.934567\n",
       "3  0.893919  0.805191  0.815534  0.895310  0.873788  0.943644  0.943980\n",
       "4  0.910883  0.827150  0.805694  0.905836  0.891306  0.943256  0.940607\n",
       "5  0.898680  0.811869  0.798993  0.894759  0.873108  0.932047  0.927624\n",
       "6  0.911174  0.823186  0.817910  0.895888  0.915499  0.937572  0.941625\n",
       "7  0.886962  0.816602  0.800056  0.905172  0.898863  0.932808  0.941406\n",
       "8  0.897476  0.814177  0.803365  0.908074  0.883650  0.941179  0.940396\n",
       "9  0.894514  0.814041  0.811110  0.894524  0.871061  0.930808  0.933487"
      ]
     },
     "execution_count": 80,
     "metadata": {},
     "output_type": "execute_result"
    }
   ],
   "source": [
    "scores = []\n",
    "names = []\n",
    "for name,model in models:\n",
    "    crossval_scores = cross_val_score(model, X_train, y_train, scoring='roc_auc', cv=kf)\n",
    "    scores.append(crossval_scores)\n",
    "    names.append(name)\n",
    "    \n",
    "results = pd.DataFrame(scores,index = names).T\n",
    "results"
   ]
  },
  {
   "cell_type": "markdown",
   "metadata": {},
   "source": [
    "### Plot a model comparison using a BoxPlot to capture the range of values coming from the K Folds for each model"
   ]
  },
  {
   "cell_type": "code",
   "execution_count": 81,
   "metadata": {},
   "outputs": [
    {
     "data": {
      "image/png": "[encoded data removed]",
      "text/plain": [
       "<Figure size 720x576 with 1 Axes>"
      ]
     },
     "metadata": {
      "needs_background": "light"
     },
     "output_type": "display_data"
    }
   ],
   "source": [
    "results.boxplot(figsize=(10,8));"
   ]
  },
  {
   "cell_type": "markdown",
   "metadata": {},
   "source": [
    "<a id='5'></a>\n",
    "# 6. Model Tuning and Grid Search"
   ]
  },
  {
   "cell_type": "markdown",
   "metadata": {
    "_cell_guid": "848ca488-b0fd-8e93-2e68-23d32c71d89c"
   },
   "source": [
    "### Choose the best model and do some hyperparameter tuning by looping over the hyper parameters of the model to fine-tune the model. "
   ]
  },
  {
   "cell_type": "code",
   "execution_count": 82,
   "metadata": {},
   "outputs": [],
   "source": [
    "from sklearn.model_selection import RandomizedSearchCV # Use RandomizedSearchCV for hyperparameter tuning\n",
    "best_model = RandomForestClassifier()"
   ]
  },
  {
   "cell_type": "code",
   "execution_count": 83,
   "metadata": {},
   "outputs": [],
   "source": [
    "# After reading the documentation of RandomForest, find there are 4 hyperparameters are important\n",
    "# namely n_estimators,max_depth,min_samples_split, min_samples_leaf\n",
    "# set some initial starting value range for each hyperparameters\n",
    "n_estimators = [int(x) for x in np.linspace(100,1000,num=10)]\n",
    "max_depth=[int(x) for x in np.linspace(10,110,10)]\n",
    "min_samples_split=[int(x) for x in np.linspace(1,10,10)]\n",
    "min_samples_leaf=[int(x) for x in np.linspace(1,10,10)]"
   ]
  },
  {
   "cell_type": "code",
   "execution_count": 84,
   "metadata": {},
   "outputs": [
    {
     "name": "stdout",
     "output_type": "stream",
     "text": [
      "{'n_estimators': [100, 200, 300, 400, 500, 600, 700, 800, 900, 1000], 'max_depth': [10, 21, 32, 43, 54, 65, 76, 87, 98, 110], 'min_samples_split': [1, 2, 3, 4, 5, 6, 7, 8, 9, 10], 'min_samples_leaf': [1, 2, 3, 4, 5, 6, 7, 8, 9, 10]}\n"
     ]
    }
   ],
   "source": [
    "random_grid = {'n_estimators': n_estimators,\n",
    "               'max_depth': max_depth,\n",
    "               'min_samples_split': min_samples_split,\n",
    "               'min_samples_leaf': min_samples_leaf}\n",
    "\n",
    "print(random_grid)"
   ]
  },
  {
   "cell_type": "code",
   "execution_count": 85,
   "metadata": {},
   "outputs": [],
   "source": [
    "best_model_random = RandomizedSearchCV(estimator = best_model, param_distributions = random_grid, \n",
    "                                       n_iter = 100, cv = 2, random_state=42, n_jobs = -1)"
   ]
  },
  {
   "cell_type": "code",
   "execution_count": 86,
   "metadata": {},
   "outputs": [
    {
     "data": {
      "text/plain": [
       "RandomizedSearchCV(cv=2, estimator=RandomForestClassifier(), n_iter=100,\n",
       "                   n_jobs=-1,\n",
       "                   param_distributions={'max_depth': [10, 21, 32, 43, 54, 65,\n",
       "                                                      76, 87, 98, 110],\n",
       "                                        'min_samples_leaf': [1, 2, 3, 4, 5, 6,\n",
       "                                                             7, 8, 9, 10],\n",
       "                                        'min_samples_split': [1, 2, 3, 4, 5, 6,\n",
       "                                                              7, 8, 9, 10],\n",
       "                                        'n_estimators': [100, 200, 300, 400,\n",
       "                                                         500, 600, 700, 800,\n",
       "                                                         900, 1000]},\n",
       "                   random_state=42)"
      ]
     },
     "execution_count": 86,
     "metadata": {},
     "output_type": "execute_result"
    }
   ],
   "source": [
    "best_model_random.fit(X_train,y_train)"
   ]
  },
  {
   "cell_type": "code",
   "execution_count": 87,
   "metadata": {},
   "outputs": [
    {
     "data": {
      "text/plain": [
       "{'n_estimators': 400,\n",
       " 'min_samples_split': 8,\n",
       " 'min_samples_leaf': 1,\n",
       " 'max_depth': 43}"
      ]
     },
     "execution_count": 87,
     "metadata": {},
     "output_type": "execute_result"
    }
   ],
   "source": [
    "best_model_random.best_params_ # this is the best hyperparameters after tuning"
   ]
  },
  {
   "cell_type": "markdown",
   "metadata": {},
   "source": [
    "<a id='6'></a>\n",
    "# 7. Finalise the Model"
   ]
  },
  {
   "cell_type": "markdown",
   "metadata": {},
   "source": [
    "### Finalize Model with best parameters found during tuning step."
   ]
  },
  {
   "cell_type": "code",
   "execution_count": 88,
   "metadata": {},
   "outputs": [],
   "source": [
    "final_model = RandomForestClassifier(n_estimators= 700,min_samples_split=3,min_samples_leaf=3,max_depth=98)"
   ]
  },
  {
   "cell_type": "markdown",
   "metadata": {},
   "source": [
    "<a id='6.1'></a>\n",
    "## 7.1. Results on the Test Dataset"
   ]
  },
  {
   "cell_type": "markdown",
   "metadata": {},
   "source": [
    "### Calculate the fine-tuned model results on the test dataset. Calculate accuracy, confusion matrix, the classification report."
   ]
  },
  {
   "cell_type": "code",
   "execution_count": 89,
   "metadata": {},
   "outputs": [],
   "source": [
    "from sklearn.metrics import accuracy_score, confusion_matrix, classification_report"
   ]
  },
  {
   "cell_type": "code",
   "execution_count": 90,
   "metadata": {},
   "outputs": [],
   "source": [
    "final_model.fit(X_train,y_train)\n",
    "y_pred = pd.Series(final_model.predict(X_test))"
   ]
  },
  {
   "cell_type": "code",
   "execution_count": 91,
   "metadata": {
    "_cell_guid": "f9725666-3c21-69d1-ddf6-45e47d982444"
   },
   "outputs": [
    {
     "data": {
      "text/plain": [
       "0.8545454545454545"
      ]
     },
     "execution_count": 91,
     "metadata": {},
     "output_type": "execute_result"
    }
   ],
   "source": [
    "accuracy = accuracy_score(y_test,y_pred)\n",
    "accuracy"
   ]
  },
  {
   "cell_type": "code",
   "execution_count": 92,
   "metadata": {},
   "outputs": [
    {
     "data": {
      "text/plain": [
       "array([[883, 209],\n",
       "       [111, 997]])"
      ]
     },
     "execution_count": 92,
     "metadata": {},
     "output_type": "execute_result"
    }
   ],
   "source": [
    "confusion_matrix(y_test,y_pred)"
   ]
  },
  {
   "cell_type": "code",
   "execution_count": 93,
   "metadata": {},
   "outputs": [
    {
     "name": "stdout",
     "output_type": "stream",
     "text": [
      "              precision    recall  f1-score   support\n",
      "\n",
      "           0       0.89      0.81      0.85      1092\n",
      "           1       0.83      0.90      0.86      1108\n",
      "\n",
      "    accuracy                           0.85      2200\n",
      "   macro avg       0.86      0.85      0.85      2200\n",
      "weighted avg       0.86      0.85      0.85      2200\n",
      "\n"
     ]
    }
   ],
   "source": [
    "print(classification_report(y_test,y_pred))"
   ]
  },
  {
   "cell_type": "markdown",
   "metadata": {},
   "source": [
    "### Calculate the ROC curve for the model"
   ]
  },
  {
   "cell_type": "code",
   "execution_count": 94,
   "metadata": {},
   "outputs": [
    {
     "data": {
      "image/png": "[encoded data removed]",
      "text/plain": [
       "<Figure size 432x288 with 1 Axes>"
      ]
     },
     "metadata": {
      "needs_background": "light"
     },
     "output_type": "display_data"
    }
   ],
   "source": [
    "from sklearn.metrics import roc_auc_score, roc_curve, auc\n",
    "fpr, tpr, thresholds = roc_curve(y_test, y_pred)\n",
    "roc_auc = auc(fpr,tpr)\n",
    "plt.plot(fpr, tpr, 'b',label = 'AUC = %0.2f' % roc_auc)\n",
    "plt.title(\"ROC Curve\")\n",
    "plt.legend(loc = 'lower right')\n",
    "plt.plot([0, 1], [0, 1],'r--')\n",
    "plt.xlim([0, 1])\n",
    "plt.ylim([0, 1])\n",
    "plt.ylabel('True Positive Rate')\n",
    "plt.xlabel('False Positive Rate')\n",
    "plt.show();"
   ]
  },
  {
   "cell_type": "markdown",
   "metadata": {},
   "source": [
    "<a id='6.2'></a>\n",
    "## 7.2. Variable Intuition/Feature Importance\n",
    "Looking at the details above GBM might be worthy of further study.\n",
    "Let us look into the Feature Importance of the GBM model"
   ]
  },
  {
   "cell_type": "markdown",
   "metadata": {},
   "source": [
    "### Examine the importance of each of the model features. Some models may have a features_importances property. For others you may need to loop over features and exclude/include them to determine their impact on the score."
   ]
  },
  {
   "cell_type": "code",
   "execution_count": 95,
   "metadata": {},
   "outputs": [
    {
     "data": {
      "text/plain": [
       "funded_amnt              0.020470\n",
       "annual_inc               0.007051\n",
       "dti                      0.030772\n",
       "emp_length               0.005603\n",
       "fico_range_low           0.021504\n",
       "installment              0.026560\n",
       "int_rate                 0.066282\n",
       "loan_amnt                0.020846\n",
       "mort_acc                 0.008951\n",
       "open_acc                 0.014972\n",
       "revol_util               0.022230\n",
       "term                     0.042758\n",
       "last_pymnt_amnt          0.478557\n",
       "num_actv_rev_tl          0.014849\n",
       "mo_sin_rcnt_rev_tl_op    0.018346\n",
       "mo_sin_old_rev_tl_op     0.024096\n",
       "bc_util                  0.021967\n",
       "bc_open_to_buy           0.023425\n",
       "avg_cur_bal              0.028287\n",
       "acc_open_past_24mths     0.018627\n",
       "grade                    0.042622\n",
       "home_ownership           0.005451\n",
       "verification_status      0.008193\n",
       "purpose                  0.006405\n",
       "addr_state               0.017455\n",
       "initial_list_status      0.003721\n",
       "application_type         0.000000\n",
       "dtype: float64"
      ]
     },
     "execution_count": 95,
     "metadata": {},
     "output_type": "execute_result"
    }
   ],
   "source": [
    "importance = pd.Series(final_model.feature_importances_,index=X_test.columns)\n",
    "importance"
   ]
  },
  {
   "cell_type": "code",
   "execution_count": 96,
   "metadata": {},
   "outputs": [
    {
     "data": {
      "image/png": "[encoded data removed]",
      "text/plain": [
       "<Figure size 864x432 with 1 Axes>"
      ]
     },
     "metadata": {
      "needs_background": "light"
     },
     "output_type": "display_data"
    }
   ],
   "source": [
    "importance.plot.bar(figsize=(12,6)).set_title(\"Features Importance Chart\");"
   ]
  },
  {
   "cell_type": "code",
   "execution_count": 97,
   "metadata": {},
   "outputs": [
    {
     "data": {
      "text/plain": [
       "last_pymnt_amnt    0.478557\n",
       "int_rate           0.066282\n",
       "term               0.042758\n",
       "grade              0.042622\n",
       "dti                0.030772\n",
       "dtype: float64"
      ]
     },
     "execution_count": 97,
     "metadata": {},
     "output_type": "execute_result"
    }
   ],
   "source": [
    "top_5_features = importance.sort_values(ascending=False).head(5)\n",
    "top_5_features"
   ]
  },
  {
   "cell_type": "markdown",
   "metadata": {},
   "source": [
    "### Conclusion"
   ]
  },
  {
   "cell_type": "markdown",
   "metadata": {},
   "source": [
    "### Write a summary of what you have found."
   ]
  },
  {
   "cell_type": "code",
   "execution_count": null,
   "metadata": {},
   "outputs": [],
   "source": [
    "''' To make prediction of whether a debt of a specific client will be charged off, \n",
    "the best model will be Random_forest(at least according to this coursework) and in addition,\n",
    "the 5 most efficient features to predict are 'last_pymnt_amnt', 'int_rate', 'grade', 'term', 'dti'.\n",
    "Also, in this coursework, it was not absolutely followed the instruction step by step, even all tasks\n",
    "have been finished but the order maybe slighly different since we think it might be good as what we did\n",
    "'''"
   ]
  }
 ],
 "metadata": {
  "_change_revision": 206,
  "_is_fork": false,
  "kernelspec": {
   "display_name": "Python 3",
   "language": "python",
   "name": "python3"
  },
  "language_info": {
   "codemirror_mode": {
    "name": "ipython",
    "version": 3
   },
   "file_extension": ".py",
   "mimetype": "text/x-python",
   "name": "python",
   "nbconvert_exporter": "python",
   "pygments_lexer": "ipython3",
   "version": "3.8.5"
  }
 },
 "nbformat": 4,
 "nbformat_minor": 1
}
